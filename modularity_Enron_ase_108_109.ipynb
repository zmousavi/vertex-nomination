{
 "cells": [
  {
   "cell_type": "code",
   "execution_count": 9,
   "metadata": {},
   "outputs": [],
   "source": [
    "import networkx as nx\n",
    "import community\n",
    "from community import community_louvain\n",
    "import numpy as np\n",
    "import copy  \n",
    "import matplotlib.pyplot as plt\n",
    "import collections\n",
    "import graph_ase_BNU\n",
    "from sklearn.utils.extmath import randomized_svd\n",
    "import collections"
   ]
  },
  {
   "cell_type": "code",
   "execution_count": 295,
   "metadata": {},
   "outputs": [],
   "source": [
    "def ase_graph(G): \n",
    "    sorted_vertex = sorted(G.nodes())\n",
    "    A = nx.to_scipy_sparse_matrix(G, nodelist=sorted_vertex)\n",
    "    n = G.number_of_nodes()\n",
    "    max_dim = max_dim_ase\n",
    "    \n",
    "    svd_seed = 1234\n",
    "    U, Sigma, VT = randomized_svd(A, \n",
    "                              n_components=min(max_dim, n - 1),\n",
    "                              n_iter=50,\n",
    "                              random_state=svd_seed)\n",
    "\n",
    "    ##print (\"dimension reduction (elbow selection)\")\n",
    "    #rank_graph =  getElbows_BNU.getElbows(Sigma, n_elbows=elb)\n",
    "    \n",
    "    #reduced_dim = rank_graph[(elb-1)]\n",
    "    ##print (\"elbow is %d\" %reduced_dim)\n",
    "\n",
    "    reduced_dim = 2 \n",
    "    s_sqrt = np.sqrt(Sigma) \n",
    "\n",
    "    \n",
    "    s_sqrt_dim_reduced = s_sqrt[:reduced_dim]\n",
    "    U_dim_reduced = U[:, :reduced_dim ]\n",
    "    VT_dim_reduced =VT[:reduced_dim, :]\n",
    "\n",
    "    Xhat = np.multiply( s_sqrt_dim_reduced, U_dim_reduced)\n",
    "    \n",
    "    embedded_dict = {}\n",
    "    for _, vertex in enumerate(sorted_vertex):\n",
    "        embedded_dict[vertex] = Xhat[_, :]\n",
    "     \n",
    "    \n",
    "    embedded = collections.namedtuple('embedded', 'Xhat vertex_labels dict')\n",
    "    result = embedded(Xhat = Xhat, vertex_labels = sorted_vertex, dict = embedded_dict)\n",
    "    \n",
    "    return result\n",
    "\n",
    "def sqdist(vector):\n",
    "    return sum(x*x for x in vector)\n",
    "\n",
    "def degtrim_max(G, max_threshold):\n",
    "    tmpG = copy.deepcopy(G)\n",
    "\n",
    "    for vertex in G.nodes():\n",
    "        if G.degree[vertex] >= max_threshold:\n",
    "            tmpG.remove_node(vertex)\n",
    "\n",
    "    Graph = copy.deepcopy(tmpG)\n",
    "    louvain = community.best_partition(Graph, resolution=1, randomize=False)\n",
    "    mod = community.modularity(louvain, Graph)\n",
    "\n",
    "    embedded = collections.namedtuple('embedded', 'G mod')\n",
    "    result = embedded(G = Graph, mod = mod)\n",
    "\n",
    "    return result\n",
    "\n",
    "def degtrim_minmax(G, percent_threshold):\n",
    "\n",
    "    tmpG = copy.deepcopy(G)\n",
    "    sorted_degrees_desc = sorted(G.degree, key=lambda x: x[1], reverse=True)\n",
    "    sorted_degrees_asc = sorted(G.degree, key=lambda x: x[1], reverse=False)\n",
    "    count_threshold = int(percent_threshold * G.number_of_nodes())\n",
    "    ctr = 0 \n",
    "    if ctr <= count_threshold:\n",
    "        high_trim = sorted_degrees_desc[ctr][0]\n",
    "        low_trim = sorted_degrees_asc[ctr][0]\n",
    "        tmpG.remove_node(high_trim)\n",
    "        tmpG.remove_node(low_trim)\n",
    "        ctr += 1\n",
    "        \n",
    "\n",
    "    Graph = copy.deepcopy(tmpG)\n",
    "    louvain = community.best_partition(Graph, resolution=1, randomize=False)\n",
    "    mod = community.modularity(louvain, Graph)\n",
    "\n",
    "    embedded = collections.namedtuple('embedded', 'G mod')\n",
    "    result = embedded(G = Graph, mod = mod)\n",
    "\n",
    "    return result\n",
    "\n",
    "#procrustes\n",
    "def procrustes(A, B):\n",
    "    tmp = A.T @ B\n",
    "    U_tmp, Sigma_tmp, VT_tmp = np.linalg.svd(tmp)\n",
    "    W = U_tmp @ VT_tmp\n",
    "    return W\n",
    "    #A@W - B"
   ]
  },
  {
   "cell_type": "code",
   "execution_count": 2,
   "metadata": {},
   "outputs": [],
   "source": [
    "file_108 = r'/Users/z/Desktop/execs_email_t108.txt'\n",
    "file_109 = r'/Users/z/Desktop/execs_email_t109.txt'\n"
   ]
  },
  {
   "cell_type": "code",
   "execution_count": 115,
   "metadata": {},
   "outputs": [],
   "source": [
    "G108 = nx.read_weighted_edgelist(file_108, comments='#', delimiter=' ', create_using=None, nodetype=str,  encoding='utf-8')\n",
    "G109 = nx.read_weighted_edgelist(file_109, comments='#', delimiter=' ', create_using=None, nodetype=str,  encoding='utf-8')\n"
   ]
  },
  {
   "cell_type": "code",
   "execution_count": 116,
   "metadata": {},
   "outputs": [
    {
     "name": "stdout",
     "output_type": "stream",
     "text": [
      "136\n",
      "88\n",
      "166\n",
      "98\n"
     ]
    }
   ],
   "source": [
    "print(G108.size())\n",
    "print(G108.number_of_nodes())\n",
    "print(G109.size())\n",
    "print(G109.number_of_nodes())"
   ]
  },
  {
   "cell_type": "code",
   "execution_count": 174,
   "metadata": {},
   "outputs": [],
   "source": [
    "G109_misses = set(G108.nodes()) - set(G109.nodes())\n",
    "G108_misses = set(G109.nodes()) - set(G108.nodes())\n"
   ]
  },
  {
   "cell_type": "code",
   "execution_count": 118,
   "metadata": {},
   "outputs": [],
   "source": [
    "# G108_world =  G_108\n",
    "# G108_world.add_nodes_from(G_109)\n",
    "# G109_world =  G_109\n",
    "# G109_world.add_nodes_from(G_108)\n"
   ]
  },
  {
   "cell_type": "code",
   "execution_count": 119,
   "metadata": {},
   "outputs": [
    {
     "name": "stdout",
     "output_type": "stream",
     "text": [
      "136\n",
      "88\n",
      "166\n",
      "98\n",
      "136\n",
      "106\n",
      "166\n",
      "106\n"
     ]
    }
   ],
   "source": [
    "# print(G108.size())\n",
    "# print(G108.number_of_nodes())\n",
    "# print(G109.size())\n",
    "# print(G109.number_of_nodes())\n",
    "# print(G108_world.size())\n",
    "# print(G108_world.number_of_nodes())\n",
    "# print(G109_world.size())\n",
    "# print(G109_world.number_of_nodes())"
   ]
  },
  {
   "cell_type": "code",
   "execution_count": null,
   "metadata": {},
   "outputs": [],
   "source": [
    "Graph = copy.deepcopy(G_108)\n",
    "louvain_108 = community.best_partition(Graph, resolution=1, randomize=False)\n",
    "mod_108 = community.modularity(louvain_108, Graph)\n",
    "print(mod_108)\n",
    "\n",
    "Graph = copy.deepcopy(G_109)\n",
    "louvain_109 = community.best_partition(Graph, resolution=1, randomize=False)\n",
    "mod_109 = community.modularity(louvain_109, Graph)\n",
    "print(mod_109)"
   ]
  },
  {
   "cell_type": "code",
   "execution_count": 177,
   "metadata": {},
   "outputs": [
    {
     "name": "stdout",
     "output_type": "stream",
     "text": [
      "0.8660762574364523\n"
     ]
    }
   ],
   "source": [
    "max_deg = 9\n",
    "Gtrim_mod = degtrim_max(G_109, max_deg)\n",
    "G109_trimmed = Gtrim_mod.G\n",
    "mod_109_trimmed = Gtrim_mod.mod\n",
    "print (mod_109_trimmed)"
   ]
  },
  {
   "cell_type": "code",
   "execution_count": 191,
   "metadata": {},
   "outputs": [
    {
     "name": "stdout",
     "output_type": "stream",
     "text": [
      "{'169', '114', '107', '82', '65', '63', '58', '128', '140'}\n",
      "{'76', '16', '139', '48', '175', '49', '132', '62', '116', '93', '70', '53', '18', '157', '98', '109', '59', '81'}\n",
      "80\n",
      "71\n"
     ]
    }
   ],
   "source": [
    "print(set(G109.nodes()) - set(G109_trimmed.nodes()))\n",
    "print(G108_misses)\n",
    "#note here trimming only trimmed nodes that were common in both G108 and G109\n",
    "#remember to do procrustes!!!!! \n",
    "\n",
    "intersecting_108_109 =   set(G108.nodes()).intersection(set(G109.nodes()))\n",
    "intersecting_all3 =   list(set(intersecting_108_109).intersection(set(G109_trimmed.nodes())))\n",
    "\n",
    "print(len(intersecting_108_109))\n",
    "print(len(intersecting_all3))"
   ]
  },
  {
   "cell_type": "code",
   "execution_count": 225,
   "metadata": {},
   "outputs": [],
   "source": [
    "#list(intersecting_108_109 )"
   ]
  },
  {
   "cell_type": "code",
   "execution_count": 184,
   "metadata": {},
   "outputs": [],
   "source": [
    "ase_G108 = ase_graph(G108)\n",
    "ase_G109 = ase_graph(G109)\n",
    "ase_G109_trimmed = ase_graph(G109_trimmed)\n"
   ]
  },
  {
   "cell_type": "code",
   "execution_count": 236,
   "metadata": {},
   "outputs": [],
   "source": [
    "\n",
    "intersecting_index = []\n",
    "for v in intersecting_all3:\n",
    "    intersecting_index.append(ase_G108.vertex_labels.index(v))\n",
    "Xhat108_shared = ase_G108.Xhat[intersecting_index]\n",
    "\n",
    "intersecting_index = []\n",
    "for v in intersecting_all3:\n",
    "    intersecting_index.append(ase_G109.vertex_labels.index(v))\n",
    "Xhat109_shared = ase_G109.Xhat[intersecting_index]\n",
    "\n",
    "intersecting_index = []\n",
    "for v in intersecting_all3:\n",
    "    intersecting_index.append(ase_G109_trimmed.vertex_labels.index(v))\n",
    "Xhat109_trimmed_shared = ase_G109_trimmed.Xhat[intersecting_index]"
   ]
  },
  {
   "cell_type": "code",
   "execution_count": 280,
   "metadata": {},
   "outputs": [],
   "source": [
    "#procrustes\n",
    "W_109_108 = procrustes(Xhat109_shared, Xhat108_shared)\n",
    "Xhat109_shared_proj = Xhat109_shared@W_109_108 \n",
    "\n",
    "\n",
    "W_109_trimmed_108 = procrustes(Xhat109_trimmed_shared, Xhat108_shared)\n",
    "Xhat109_trimmed_shared_proj = Xhat109_trimmed_shared@W_109_trimmed_108 \n"
   ]
  },
  {
   "cell_type": "code",
   "execution_count": 281,
   "metadata": {},
   "outputs": [],
   "source": [
    "\n",
    "Xhat_108_109 = Xhat108_shared - Xhat109_shared_proj \n",
    "diff_108_109 = np.linalg.norm(Xhat_108_109, axis=1)"
   ]
  },
  {
   "cell_type": "code",
   "execution_count": 282,
   "metadata": {},
   "outputs": [
    {
     "data": {
      "text/plain": [
       "array([5.06164441e-01, 1.74891613e-01, 1.49816018e-01, 6.09137565e-01,\n",
       "       3.16593769e-23, 9.66606663e-02, 9.89538550e-02, 4.34768254e-01,\n",
       "       1.18864114e-01, 1.26807951e-01, 1.08387815e-01, 4.37778699e-03,\n",
       "       6.38862400e-01, 1.45504900e-03, 1.08316172e-01, 2.64157582e-01,\n",
       "       7.58333921e-02, 7.46891816e-02, 4.24906782e-02, 1.45764134e-01,\n",
       "       1.19917249e-21, 1.18954206e-01, 5.86573060e-01, 7.42602835e-02,\n",
       "       8.29796254e-03, 4.33035392e-02, 5.71193595e-01, 1.70269968e-23,\n",
       "       5.11667452e-22, 1.78973998e-02, 1.36358446e-23, 4.88271339e-02,\n",
       "       3.56709500e-01, 8.52708383e-44, 3.11303373e-01, 8.45866991e-02,\n",
       "       5.11667452e-22, 9.12117845e-24, 1.14332635e-01, 1.36358444e-23,\n",
       "       1.73162431e-01, 2.21566403e-02, 1.45457902e-02, 4.86362330e-03,\n",
       "       1.98222899e-43, 2.84059851e-40, 7.08775644e-01, 1.85644131e-01,\n",
       "       3.85548598e-03, 1.16860831e-01, 1.83171166e-39, 5.06601446e-02,\n",
       "       1.62560602e-01, 3.82343999e-01, 2.51327010e-02, 1.05353270e-15,\n",
       "       3.69883426e-02, 3.66572000e-05, 8.31622375e-02, 9.32994975e-03,\n",
       "       2.84407113e-03, 2.41334609e-01, 8.92785073e-22, 4.71531875e-01,\n",
       "       3.57157286e-01, 2.64346832e-01, 2.98920720e-01, 1.36358444e-23,\n",
       "       1.55539072e-01, 7.25068649e-01, 3.56758142e-01])"
      ]
     },
     "execution_count": 282,
     "metadata": {},
     "output_type": "execute_result"
    }
   ],
   "source": [
    "diff_108_109"
   ]
  },
  {
   "cell_type": "code",
   "execution_count": 283,
   "metadata": {},
   "outputs": [
    {
     "data": {
      "text/plain": [
       "array([6.30476416e-01, 6.69166103e-01, 9.84309485e-01, 6.62348825e-01,\n",
       "       1.48230862e-16, 6.28899926e-01, 6.55234931e-55, 9.13281229e-01,\n",
       "       6.41801057e-01, 1.79475563e-01, 6.53028685e-01, 4.73663412e-02,\n",
       "       4.91100310e-01, 1.45504900e-03, 1.37773938e-01, 2.17838257e-01,\n",
       "       1.95293105e-03, 8.51307428e-01, 1.37682649e-17, 7.85685929e-01,\n",
       "       4.03369045e-16, 7.51983847e-02, 7.65131019e-01, 7.42602835e-02,\n",
       "       8.29796254e-03, 7.15821374e-01, 6.96424583e-01, 5.42562633e-17,\n",
       "       1.72164805e-16, 1.36770615e-01, 9.45945303e-18, 5.44613553e-02,\n",
       "       1.01309347e+00, 1.22744326e-32, 3.80709470e-01, 3.56930380e-01,\n",
       "       1.72164805e-16, 1.63837977e-17, 8.08156942e-02, 9.45918712e-18,\n",
       "       1.09685428e-17, 1.05988857e-02, 2.68020420e-01, 5.09191261e-02,\n",
       "       3.36660649e-33, 2.84059847e-40, 7.39343051e-01, 5.01774727e-18,\n",
       "       2.03935875e-17, 4.09739435e-02, 1.83171166e-39, 7.65131019e-01,\n",
       "       7.95211975e-01, 2.21649059e-01, 4.69618565e-17, 3.38318087e-16,\n",
       "       2.17838257e-01, 3.66572000e-05, 3.81652358e-01, 1.87799136e-01,\n",
       "       1.47349822e-02, 4.41715793e-02, 3.00366383e-16, 1.20652178e+00,\n",
       "       2.63831357e-01, 3.24492642e-01, 4.58673477e-02, 9.45918712e-18,\n",
       "       2.26552956e-01, 1.18674505e-01, 1.86361970e-01])"
      ]
     },
     "execution_count": 283,
     "metadata": {},
     "output_type": "execute_result"
    }
   ],
   "source": [
    "Xhat_108_109_trimmed = Xhat108_shared - Xhat109_trimmed_shared_proj \n",
    "diff_108_109_trimmed = np.linalg.norm(Xhat_108_109_trimmed, axis=1)\n",
    "diff_108_109_trimmed"
   ]
  },
  {
   "cell_type": "code",
   "execution_count": 284,
   "metadata": {},
   "outputs": [
    {
     "data": {
      "image/png": "[encoded data removed]",
      "text/plain": [
       "<Figure size 800x800 with 1 Axes>"
      ]
     },
     "metadata": {
      "needs_background": "light"
     },
     "output_type": "display_data"
    }
   ],
   "source": [
    "a = np.array(diff_108_109)\n",
    "b = np.array(diff_108_109_trimmed)\n",
    "m = np.vstack((a,b))\n",
    "#m1 = np.asmatrix(m)\n",
    "plt.figure(figsize=(10, 10), dpi=80)\n",
    "plt.imshow(m, cmap='hot', interpolation='nearest')\n",
    "plt.show()\n",
    "#black means small number"
   ]
  },
  {
   "cell_type": "code",
   "execution_count": 291,
   "metadata": {},
   "outputs": [],
   "source": [
    "rank_trim = []\n",
    "rank_noise = []\n",
    "\n",
    "idx = 1 \n",
    "for idx in range(Xhat108_shared.shape[0]):\n",
    "    distance_to_noisy = Xhat109_shared_proj - Xhat108_shared[idx,]\n",
    "    diff_Noise_108v = np.linalg.norm(distance_to_noisy, axis=1)\n",
    "    distance_to_trim = Xhat109_trimmed_shared_proj - Xhat108_shared[idx,]\n",
    "    diff_Trim_108v = np.linalg.norm(distance_to_trim, axis=1)\n",
    "    rank_trim.append(diff_Trim_108v.argsort()[0]) \n",
    "    rank_noise.append(diff_Noise_108v.argsort()[0])\n",
    "    \n",
    "delta_rank = np.array(rank_noise) - np.array(rank_trim)"
   ]
  },
  {
   "cell_type": "code",
   "execution_count": 289,
   "metadata": {},
   "outputs": [
    {
     "data": {
      "text/plain": [
       "[<matplotlib.lines.Line2D at 0x11bcb5e80>]"
      ]
     },
     "execution_count": 289,
     "metadata": {},
     "output_type": "execute_result"
    },
    {
     "data": {
      "image/png": "[encoded data removed]",
      "text/plain": [
       "<Figure size 432x288 with 1 Axes>"
      ]
     },
     "metadata": {
      "needs_background": "light"
     },
     "output_type": "display_data"
    }
   ],
   "source": [
    "plt.plot(np.array(rank_noise), 'ro')\n",
    "plt.plot(np.array(rank_trim), 'go')\n"
   ]
  },
  {
   "cell_type": "code",
   "execution_count": 292,
   "metadata": {},
   "outputs": [
    {
     "data": {
      "text/plain": [
       "[<matplotlib.lines.Line2D at 0x11c0fa438>]"
      ]
     },
     "execution_count": 292,
     "metadata": {},
     "output_type": "execute_result"
    },
    {
     "data": {
      "image/png": "[encoded data removed]",
      "text/plain": [
       "<Figure size 432x288 with 1 Axes>"
      ]
     },
     "metadata": {
      "needs_background": "light"
     },
     "output_type": "display_data"
    }
   ],
   "source": [
    "plt.plot(delta_rank)"
   ]
  },
  {
   "cell_type": "code",
   "execution_count": 293,
   "metadata": {},
   "outputs": [],
   "source": [
    "delta_rank_original = delta_rank"
   ]
  },
  {
   "cell_type": "code",
   "execution_count": 294,
   "metadata": {},
   "outputs": [
    {
     "data": {
      "text/plain": [
       "array([  2,  51,  51,  44,  25,  51, -26,  21,  51,  27,  51,  51,  -1,\n",
       "       -13, -30,  27, -13,  51,  25,  34, -29, -37,  34,   4, -20,  34,\n",
       "        44,  33, -29,  51,  33, -24,  51,  -4, -46,  51, -29,  25,   4,\n",
       "        33,  -4, -20,  51,  51,  -4, -12,  34,  25,  -1, -24,  -1,  34,\n",
       "        45,  -1,  -1,   8,  27,  51,  51, -10, -13, -57, -29,  51,  -8,\n",
       "        14, -24,  33,  27, -55,  27])"
      ]
     },
     "execution_count": 294,
     "metadata": {},
     "output_type": "execute_result"
    }
   ],
   "source": [
    "delta_rank_original "
   ]
  },
  {
   "cell_type": "code",
   "execution_count": null,
   "metadata": {},
   "outputs": [],
   "source": []
  },
  {
   "cell_type": "code",
   "execution_count": 286,
   "metadata": {},
   "outputs": [
    {
     "data": {
      "text/plain": [
       "(array([32., 14.,  7.,  3.,  5.,  2.,  2.,  1.,  3.,  2.]),\n",
       " array([8.52708383e-44, 7.25068649e-02, 1.45013730e-01, 2.17520595e-01,\n",
       "        2.90027460e-01, 3.62534324e-01, 4.35041189e-01, 5.07548054e-01,\n",
       "        5.80054919e-01, 6.52561784e-01, 7.25068649e-01]),\n",
       " <a list of 10 Patch objects>)"
      ]
     },
     "execution_count": 286,
     "metadata": {},
     "output_type": "execute_result"
    },
    {
     "data": {
      "image/png": "[encoded data removed]",
      "text/plain": [
       "<Figure size 432x288 with 1 Axes>"
      ]
     },
     "metadata": {
      "needs_background": "light"
     },
     "output_type": "display_data"
    }
   ],
   "source": [
    "plt.hist(a)"
   ]
  },
  {
   "cell_type": "code",
   "execution_count": 287,
   "metadata": {},
   "outputs": [
    {
     "data": {
      "text/plain": [
       "(array([37.,  9.,  4.,  2.,  1.,  8.,  5.,  2.,  2.,  1.]),\n",
       " array([6.55234931e-55, 1.20652178e-01, 2.41304356e-01, 3.61956533e-01,\n",
       "        4.82608711e-01, 6.03260889e-01, 7.23913067e-01, 8.44565245e-01,\n",
       "        9.65217423e-01, 1.08586960e+00, 1.20652178e+00]),\n",
       " <a list of 10 Patch objects>)"
      ]
     },
     "execution_count": 287,
     "metadata": {},
     "output_type": "execute_result"
    },
    {
     "data": {
      "image/png": "[encoded data removed]",
      "text/plain": [
       "<Figure size 432x288 with 1 Axes>"
      ]
     },
     "metadata": {
      "needs_background": "light"
     },
     "output_type": "display_data"
    }
   ],
   "source": [
    "plt.hist(b)"
   ]
  },
  {
   "cell_type": "code",
   "execution_count": null,
   "metadata": {},
   "outputs": [],
   "source": []
  },
  {
   "cell_type": "code",
   "execution_count": 143,
   "metadata": {},
   "outputs": [],
   "source": [
    "ase_G108 = ase_graph(G108)\n",
    "ase_G109 = ase_graph(G109)\n",
    "\n",
    "#remember to do procrustes!!!!! \n",
    "\n",
    "intersecting_vertex- =   set(G108.nodes()).intersection(set(G109.nodes()))\n",
    "\n",
    "\n",
    "\n",
    "G108_shared = ase_G108.Xhat[intersecting_vertex]\n",
    "G109_shared = ase_G109.Xhat[intersecting_vertex]\n",
    "  \n",
    "\n",
    "if 1:\n",
    "    reference = G108_shared[vertex]\n",
    "    G109_difference = G109_shared - reference\n",
    "    G109_\n",
    "\n",
    "\n",
    "myListOfVectors.sort(key=sqdist)    \n",
    "    reference = ase_G108.dict[vertex]\n",
    "    Euc_distance = ase_G109\n"
   ]
  },
  {
   "cell_type": "code",
   "execution_count": 160,
   "metadata": {},
   "outputs": [
    {
     "data": {
      "text/plain": [
       "array([2, 3, 0, 1])"
      ]
     },
     "execution_count": 160,
     "metadata": {},
     "output_type": "execute_result"
    }
   ],
   "source": [
    "v = ['b', 'm', 'c', 'd']\n",
    "m = np.array([2, 5.3, 0.8, 1.9])\n",
    "m.argsort()\n",
    "#myListOfVectors.sort(key=sqdist)  "
   ]
  },
  {
   "cell_type": "code",
   "execution_count": 153,
   "metadata": {},
   "outputs": [
    {
     "data": {
      "text/plain": [
       "array([[ 2.33031915e-24, -9.81945445e-19],\n",
       "       [ 9.43902461e-05, -2.22393978e-06]])"
      ]
     },
     "execution_count": 153,
     "metadata": {},
     "output_type": "execute_result"
    }
   ],
   "source": [
    "m = [0, 1]\n",
    "\n",
    "\n",
    "[m]"
   ]
  },
  {
   "cell_type": "code",
   "execution_count": null,
   "metadata": {},
   "outputs": [],
   "source": [
    "#no lcc\n",
    "G = G_109\n",
    "\n",
    "\n",
    "print (\"compute ase\")\n",
    "max_dim_ase = 2\n",
    "#ASE = graph_ase_BNU.adjacency_embedding(G, max_dim=max_dim_ase, get_lcc=False, elb=1, svd_seed = 1234)\n",
    "\n",
    "if 1: \n",
    "    max_dim = max_dim_ase\n",
    "    elb = 1\n",
    "    svd_seed = 1234\n",
    "    U, Sigma, VT = randomized_svd(A, \n",
    "                              n_components=min(max_dim, n - 1),\n",
    "                              n_iter=50,\n",
    "                              random_state=svd_seed)\n",
    "\n",
    "    ##print (\"dimension reduction (elbow selection)\")\n",
    "    #rank_graph =  getElbows_BNU.getElbows(Sigma, n_elbows=elb)\n",
    "    \n",
    "    #reduced_dim = rank_graph[(elb-1)]\n",
    "    ##print (\"elbow is %d\" %reduced_dim)\n",
    "\n",
    "    reduced_dim = 2 \n",
    "    s_sqrt = np.sqrt(Sigma) \n",
    "\n",
    "    \n",
    "    s_sqrt_dim_reduced = s_sqrt[:reduced_dim]\n",
    "    U_dim_reduced = U[:, :reduced_dim ]\n",
    "    VT_dim_reduced =VT[:reduced_dim, :]\n",
    "\n",
    "    Xhat_ase_109 = np.multiply( s_sqrt_dim_reduced, U_dim_reduced)\n",
    "          \n",
    "\n"
   ]
  },
  {
   "cell_type": "code",
   "execution_count": 120,
   "metadata": {},
   "outputs": [
    {
     "name": "stdout",
     "output_type": "stream",
     "text": [
      "compute ase\n"
     ]
    }
   ],
   "source": [
    "#no lcc\n",
    "G = G_108\n",
    "sorted_vertex = sorted(G.nodes())\n",
    "A = nx.to_scipy_sparse_matrix(G, nodelist=sorted_vertex)\n",
    "n = G.number_of_nodes()\n",
    "max_dim_ase = 2\n",
    "\n",
    "\n",
    "\n",
    "#ASE = graph_ase_BNU.adjacency_embedding(G, max_dim=max_dim_ase, get_lcc=False, elb=1, svd_seed = 1234)\n",
    "\n"
   ]
  },
  {
   "cell_type": "code",
   "execution_count": 122,
   "metadata": {},
   "outputs": [],
   "source": []
  },
  {
   "cell_type": "code",
   "execution_count": 58,
   "metadata": {},
   "outputs": [
    {
     "name": "stdout",
     "output_type": "stream",
     "text": [
      "compute ase\n"
     ]
    }
   ],
   "source": [
    "#no lcc\n",
    "G = G108_world\n",
    "sorted_vertex = sorted(G.nodes())\n",
    "A = nx.to_scipy_sparse_matrix(G, nodelist=sorted_vertex)\n",
    "n = G.number_of_nodes()\n",
    "\n",
    "print (\"compute ase\")\n",
    "max_dim_ase = 2\n",
    "#ASE = graph_ase_BNU.adjacency_embedding(G, max_dim=max_dim_ase, get_lcc=False, elb=1, svd_seed = 1234)\n",
    "\n",
    "if 1: \n",
    "    max_dim = max_dim_ase\n",
    "    elb = 1\n",
    "    svd_seed = 1234\n",
    "    U, Sigma, VT = randomized_svd(A, \n",
    "                              n_components=min(max_dim, n - 1),\n",
    "                              n_iter=50,\n",
    "                              random_state=svd_seed)\n",
    "\n",
    "    ##print (\"dimension reduction (elbow selection)\")\n",
    "    #rank_graph =  getElbows_BNU.getElbows(Sigma, n_elbows=elb)\n",
    "    \n",
    "    #reduced_dim = rank_graph[(elb-1)]\n",
    "    ##print (\"elbow is %d\" %reduced_dim)\n",
    "\n",
    "    reduced_dim = 2 \n",
    "    s_sqrt = np.sqrt(Sigma) \n",
    "\n",
    "    \n",
    "    s_sqrt_dim_reduced = s_sqrt[:reduced_dim]\n",
    "    U_dim_reduced = U[:, :reduced_dim ]\n",
    "    VT_dim_reduced =VT[:reduced_dim, :]\n",
    "\n",
    "    Xhat_ase_108_world = np.multiply( s_sqrt_dim_reduced, U_dim_reduced)"
   ]
  },
  {
   "cell_type": "code",
   "execution_count": 60,
   "metadata": {},
   "outputs": [
    {
     "data": {
      "text/plain": [
       "(106, 2)"
      ]
     },
     "execution_count": 60,
     "metadata": {},
     "output_type": "execute_result"
    }
   ],
   "source": [
    "Xhat_ase_108_world.shape"
   ]
  },
  {
   "cell_type": "code",
   "execution_count": 61,
   "metadata": {},
   "outputs": [
    {
     "data": {
      "text/plain": [
       "(106, 2)"
      ]
     },
     "execution_count": 61,
     "metadata": {},
     "output_type": "execute_result"
    }
   ],
   "source": [
    "Xhat_ase_108.shape"
   ]
  },
  {
   "cell_type": "code",
   "execution_count": 17,
   "metadata": {},
   "outputs": [],
   "source": [
    "A = Xhat_ase_108\n",
    "B = Xhat_ase_109"
   ]
  },
  {
   "cell_type": "code",
   "execution_count": 21,
   "metadata": {},
   "outputs": [
    {
     "data": {
      "text/plain": [
       "3.290838800485832"
      ]
     },
     "execution_count": 21,
     "metadata": {},
     "output_type": "execute_result"
    }
   ],
   "source": [
    "#np.linalg.svd(A)\n",
    "np.linalg.norm(A)"
   ]
  },
  {
   "cell_type": "code",
   "execution_count": 16,
   "metadata": {},
   "outputs": [],
   "source": [
    "G = G_108\n",
    "tot_degree_sequence_108 = [d for n, d in G.degree()]  # degree sequence\n",
    "\n",
    "G = G_109\n",
    "tot_degree_sequence_109 = [d for n, d in G.degree()]  # degree sequence\n"
   ]
  },
  {
   "cell_type": "code",
   "execution_count": 36,
   "metadata": {},
   "outputs": [
    {
     "data": {
      "text/plain": [
       "(0, 60)"
      ]
     },
     "execution_count": 36,
     "metadata": {},
     "output_type": "execute_result"
    },
    {
     "data": {
      "text/plain": [
       "<Figure size 432x288 with 0 Axes>"
      ]
     },
     "metadata": {},
     "output_type": "display_data"
    },
    {
     "data": {
      "image/png": "[encoded data removed]",
      "text/plain": [
       "<Figure size 480x320 with 2 Axes>"
      ]
     },
     "metadata": {
      "needs_background": "light"
     },
     "output_type": "display_data"
    }
   ],
   "source": [
    "fig = plt.figure()\n",
    "#fig.tight_layout()\n",
    "plt.figure(figsize=(6, 4), dpi=80)\n",
    "\n",
    "left  = 0.125  # the left side of the subplots of the figure\n",
    "right = 0.9    # the right side of the subplots of the figure\n",
    "bottom = 0.1   # the bottom of the subplots of the figure\n",
    "top = 0.9      # the top of the subplots of the figure\n",
    "wspace = 1   # the amount of width reserved for blank space between subplots\n",
    "hspace = 1   # the amount of height reserved for white space between subplots\n",
    "plt.subplots_adjust(left=left, bottom=bottom, right=right, top=top, wspace=wspace, hspace=hspace)\n",
    "\n",
    "\n",
    "\n",
    "plt.subplot(1, 2, 1)\n",
    "plt.hist(tot_degree_sequence_108, width=0.80, color='b')\n",
    "plt.title(\"Tot-degree G_108\")\n",
    "plt.ylabel(\"Count\")\n",
    "#plt.xlabel(\"Out Degree\")\n",
    "plt.ylim(0, 60)\n",
    "\n",
    "plt.subplot(1, 2, 2)\n",
    "plt.hist(tot_degree_sequence_109, width=0.80, color='b')\n",
    "plt.title(\"Tot-degree G_109\")\n",
    "plt.ylabel(\"Count\")\n",
    "#plt.xlabel(\"In Degree\")\n",
    "plt.ylim(0, 60)"
   ]
  },
  {
   "cell_type": "code",
   "execution_count": 20,
   "metadata": {},
   "outputs": [],
   "source": [
    "def degtrim_max(G, max_threshold):\n",
    "    tmpG = copy.deepcopy(G)\n",
    "\n",
    "    for vertex in G.nodes():\n",
    "        if G.degree[vertex] >= max_threshold:\n",
    "            tmpG.remove_node(vertex)\n",
    "\n",
    "    Graph = copy.deepcopy(tmpG)\n",
    "    louvain = community.best_partition(Graph, resolution=1, randomize=False)\n",
    "    mod = community.modularity(louvain, Graph)\n",
    "\n",
    "    embedded = collections.namedtuple('embedded', 'G mod')\n",
    "    result = embedded(G = Graph, mod = mod)\n",
    "\n",
    "    return result\n",
    "\n",
    "def degtrim_min(G, min_threshold):\n",
    "    tmpG = copy.deepcopy(G)\n",
    "\n",
    "    for vertex in G.nodes():\n",
    "        if G.degree[vertex] <= min_threshold:\n",
    "            tmpG.remove_node(vertex)\n",
    "\n",
    "    Graph = copy.deepcopy(tmpG)\n",
    "    louvain = community.best_partition(Graph, resolution=1, randomize=False)\n",
    "    mod = community.modularity(louvain, Graph)\n",
    "\n",
    "    embedded = collections.namedtuple('embedded', 'G mod')\n",
    "    result = embedded(G = Graph, mod = mod)\n",
    "\n",
    "    return result"
   ]
  },
  {
   "cell_type": "code",
   "execution_count": 75,
   "metadata": {},
   "outputs": [
    {
     "name": "stdout",
     "output_type": "stream",
     "text": [
      "0.7797091262975778\n"
     ]
    }
   ],
   "source": [
    "\n",
    "Graph = copy.deepcopy(G_108)\n",
    "louvain_108 = community.best_partition(Graph, resolution=1, randomize=False)\n",
    "mod_108 = community.modularity(louvain_108, Graph)\n",
    "print(mod_108)\n",
    "\n",
    "\n"
   ]
  },
  {
   "cell_type": "code",
   "execution_count": 76,
   "metadata": {},
   "outputs": [
    {
     "name": "stdout",
     "output_type": "stream",
     "text": [
      "0.6730294672666571\n"
     ]
    }
   ],
   "source": [
    "Graph = copy.deepcopy(G_109)\n",
    "louvain_109 = community.best_partition(Graph, resolution=1, randomize=False)\n",
    "mod_109 = community.modularity(louvain_109, Graph)\n",
    "print(mod_109)"
   ]
  },
  {
   "cell_type": "code",
   "execution_count": 74,
   "metadata": {},
   "outputs": [
    {
     "name": "stdout",
     "output_type": "stream",
     "text": [
      "[0.6730294672666571, 0.6730294672666571, 0.7034496191135734, 0.7034496191135734, 0.7290880740405411, 0.7290880740405411, 0.7669309325450148, 0.8029211371289844]\n",
      "[20, 15, 14, 13, 12, 11, 10, 9]\n"
     ]
    }
   ],
   "source": [
    "#G_raw = G_109\n",
    "graphs_modularity1 = []\n",
    "graphs_maxdeg = []\n",
    "max_deg_list = [20, 15, 14, 13, 12, 11, 10, 9]\n",
    "\n",
    "G_trimmed_new = G_109\n",
    "for max_deg in max_deg_list:\n",
    "    Gtrim_mod = degtrim_max(G_trimmed_new, max_deg)\n",
    "    G_trimmed_new = Gtrim_mod.G\n",
    "    graphs_maxdeg.append(max_deg)\n",
    "    graphs_modularity1.append(Gtrim_mod.mod) \n",
    "\n",
    "print (graphs_modularity1)\n",
    "print (graphs_maxdeg)"
   ]
  },
  {
   "cell_type": "code",
   "execution_count": null,
   "metadata": {},
   "outputs": [],
   "source": []
  },
  {
   "cell_type": "code",
   "execution_count": 51,
   "metadata": {},
   "outputs": [
    {
     "name": "stdout",
     "output_type": "stream",
     "text": [
      "[0.5950363559882219, 0.525326797385621, 0.46474358974358976, 0.30898668639053256, 0.12326869806094183]\n",
      "[1, 2, 3, 4, 5]\n"
     ]
    }
   ],
   "source": [
    "graphs_modularity2 = []\n",
    "graphs_mindeg = []\n",
    "min_deg_list = [1, 2, 3, 4, 5]\n",
    "G_trimmed_new = G_109\n",
    "for min_deg in min_deg_list:\n",
    "    Gtrim_mod = degtrim_min(G_trimmed_new, min_deg)\n",
    "    G_trimmed_new = Gtrim_mod.G\n",
    "    graphs_mindeg.append(min_deg)\n",
    "    graphs_modularity2.append(Gtrim_mod.mod) \n",
    "\n",
    "print (graphs_modularity2)\n",
    "print (graphs_mindeg)"
   ]
  },
  {
   "cell_type": "code",
   "execution_count": 40,
   "metadata": {},
   "outputs": [],
   "source": [
    "def degcentralitytrim_max(G, max_threshold):\n",
    "    tmpG = copy.deepcopy(G)\n",
    "    degree_centrality_dict = nx.degree_centrality(G)\n",
    "    for vertex in degree_centrality_dict:\n",
    "        if degree_centrality_dict[vertex] >= max_threshold:\n",
    "            tmpG.remove_node(vertex)\n",
    "\n",
    "    Graph = copy.deepcopy(tmpG)\n",
    "    louvain = community.best_partition(Graph, resolution=1, randomize=False)\n",
    "    mod = community.modularity(louvain, Graph)\n",
    "\n",
    "    embedded = collections.namedtuple('embedded', 'G mod')\n",
    "    result = embedded(G = Graph, mod = mod)\n",
    "\n",
    "    return result\n",
    "\n",
    "def degcentralitytrim_min(G, min_threshold):\n",
    "    tmpG = copy.deepcopy(G)\n",
    "    degree_centrality_dict = nx.degree_centrality(G)\n",
    "    for vertex in degree_centrality_dict:\n",
    "        if degree_centrality_dict[vertex] <= min_threshold:\n",
    "            tmpG.remove_node(vertex)\n",
    "\n",
    "    Graph = copy.deepcopy(tmpG)\n",
    "    louvain = community.best_partition(Graph, resolution=1, randomize=False)\n",
    "    mod = community.modularity(louvain, Graph)\n",
    "\n",
    "    embedded = collections.namedtuple('embedded', 'G mod')\n",
    "    result = embedded(G = Graph, mod = mod)\n",
    "\n",
    "    return result"
   ]
  },
  {
   "cell_type": "code",
   "execution_count": 41,
   "metadata": {},
   "outputs": [
    {
     "data": {
      "image/png": "[encoded data removed]",
      "text/plain": [
       "<Figure size 432x288 with 1 Axes>"
      ]
     },
     "metadata": {
      "needs_background": "light"
     },
     "output_type": "display_data"
    }
   ],
   "source": [
    "deg_centrality_dict = nx.degree_centrality(G_raw)\n",
    "\n",
    "degree_centrality_list = []\n",
    "for vertex in deg_centrality_dict:\n",
    "    degree_centrality_list.append(deg_centrality_dict[vertex])\n",
    "\n",
    "\n",
    "\n",
    "plt.hist(degree_centrality_list)\n",
    "plt.show()"
   ]
  },
  {
   "cell_type": "code",
   "execution_count": 49,
   "metadata": {},
   "outputs": [
    {
     "name": "stdout",
     "output_type": "stream",
     "text": [
      "[0.7034496191135734, 0.7290880740405411, 0.7669309325450148, 0.8427217825905874, 0.9073777777777778, 0.9130752373995615]\n",
      "[0.14, 0.12, 0.1, 0.08, 0.06, 0.04]\n"
     ]
    }
   ],
   "source": [
    "graphs_modularity3 = []\n",
    "graphs_maxdegcentrality = []\n",
    "max_degcentrality_list = [0.14, 0.12, 0.10, 0.08, 0.06, 0.04]\n",
    "\n",
    "G_trimmed_new = G_109\n",
    "for max_degcentrality in max_degcentrality_list:\n",
    "    Gtrim_mod = degcentralitytrim_max(G_trimmed_new, max_degcentrality)\n",
    "    G_trimmed_new = Gtrim_mod.G\n",
    "    graphs_maxdegcentrality.append(max_degcentrality)\n",
    "    graphs_modularity3.append(Gtrim_mod.mod) \n",
    "\n",
    "print (graphs_modularity3)\n",
    "print (graphs_maxdegcentrality)"
   ]
  },
  {
   "cell_type": "code",
   "execution_count": 50,
   "metadata": {},
   "outputs": [
    {
     "name": "stdout",
     "output_type": "stream",
     "text": [
      "[0.6730294672666571, 0.6730294672666571, 0.5950363559882219, 0.5827034517510706, 0.52595, 0.5214263850627487]\n",
      "[0.008, 0.01, 0.02, 0.03, 0.04, 0.05]\n"
     ]
    }
   ],
   "source": [
    "graphs_modularity4 = []\n",
    "graphs_mindegcentarlity = []\n",
    "min_degcentrality_list = [0.008, 0.01, 0.02, 0.03, 0.04, 0.05]\n",
    "G_trimmed_new = G_109\n",
    "for min_degcentrality in min_degcentrality_list:\n",
    "    Gtrim_mod = degcentralitytrim_min(G_trimmed_new, min_degcentrality)\n",
    "    G_trimmed_new = Gtrim_mod.G\n",
    "    graphs_mindegcentarlity.append(min_degcentrality)\n",
    "    graphs_modularity4.append(Gtrim_mod.mod) \n",
    "\n",
    "print (graphs_modularity4)\n",
    "print (graphs_mindegcentarlity)"
   ]
  },
  {
   "cell_type": "code",
   "execution_count": 48,
   "metadata": {},
   "outputs": [],
   "source": [
    "def btwncentralitytrim_max(G, max_threshold):\n",
    "    tmpG = copy.deepcopy(G)\n",
    "    btwn_centrality_dict = nx.betweenness_centrality(G)\n",
    "    for vertex in btwn_centrality_dict:\n",
    "        if btwn_centrality_dict[vertex] >= max_threshold:\n",
    "            tmpG.remove_node(vertex)\n",
    "\n",
    "    Graph = copy.deepcopy(tmpG)\n",
    "    louvain = community.best_partition(Graph, resolution=1, randomize=False)\n",
    "    mod = community.modularity(louvain, Graph)\n",
    "\n",
    "    embedded = collections.namedtuple('embedded', 'G mod')\n",
    "    result = embedded(G = Graph, mod = mod)\n",
    "\n",
    "    return result\n",
    "\n",
    "def btwncentralitytrim_min(G, min_threshold):\n",
    "    tmpG = copy.deepcopy(G)\n",
    "    btwn_centrality_dict = nx.betweenness_centrality(G)\n",
    "    for vertex in btwn_centrality_dict:\n",
    "        if btwn_centrality_dict[vertex] <= min_threshold:\n",
    "            tmpG.remove_node(vertex)\n",
    "\n",
    "    Graph = copy.deepcopy(tmpG)\n",
    "    louvain = community.best_partition(Graph, resolution=1, randomize=False)\n",
    "    mod = community.modularity(louvain, Graph)\n",
    "\n",
    "    embedded = collections.namedtuple('embedded', 'G mod')\n",
    "    result = embedded(G = Graph, mod = mod)\n",
    "\n",
    "    return result"
   ]
  },
  {
   "cell_type": "code",
   "execution_count": 52,
   "metadata": {},
   "outputs": [
    {
     "data": {
      "image/png": "[encoded data removed]",
      "text/plain": [
       "<Figure size 432x288 with 1 Axes>"
      ]
     },
     "metadata": {
      "needs_background": "light"
     },
     "output_type": "display_data"
    }
   ],
   "source": [
    "btwn_centrality_dict = nx.betweenness_centrality(G_109)\n",
    "\n",
    "btwn_centrality_list = []\n",
    "for vertex in btwn_centrality_dict:\n",
    "    btwn_centrality_list.append(btwn_centrality_dict[vertex])\n",
    "\n",
    "\n",
    "\n",
    "plt.hist(btwn_centrality_list)\n",
    "plt.show()"
   ]
  },
  {
   "cell_type": "code",
   "execution_count": 63,
   "metadata": {
    "scrolled": false
   },
   "outputs": [
    {
     "name": "stdout",
     "output_type": "stream",
     "text": [
      "[0.6730294672666571, 0.7290880740405411, 0.7367455621301775, 0.7641427035743079, 0.7641427035743079, 0.7641427035743079, 0.7641427035743079]\n",
      "[0.2, 0.18, 0.15, 0.08, 0.07, 0.06, 0.05]\n"
     ]
    }
   ],
   "source": [
    "graphs_modularity5 = []\n",
    "graphs_maxbtwncentrality = []\n",
    "max_btwncentrality_list = [0.2, 0.18, 0.15, 0.08, 0.07, 0.06, 0.05]\n",
    "\n",
    "G_trimmed_new = G_109\n",
    "for max_btwncentrality in max_btwncentrality_list:\n",
    "    Gtrim_mod = btwncentralitytrim_max(G_trimmed_new, max_btwncentrality)\n",
    "    G_trimmed_new = Gtrim_mod.G\n",
    "    graphs_maxbtwncentrality.append(max_btwncentrality)\n",
    "    graphs_modularity5.append(Gtrim_mod.mod) \n",
    "\n",
    "print (graphs_modularity5)\n",
    "print (graphs_maxbtwncentrality)"
   ]
  },
  {
   "cell_type": "code",
   "execution_count": 64,
   "metadata": {},
   "outputs": [
    {
     "name": "stdout",
     "output_type": "stream",
     "text": [
      "[0.6549167533818937, 0.5978125, 0.5618512110726643, 0.5449999999999999, 0.5392390011890607]\n",
      "[0.001, 0.0015, 0.002, 0.003, 0.004]\n"
     ]
    }
   ],
   "source": [
    "graphs_modularity6 = []\n",
    "graphs_minbtwncentrality = []\n",
    "min_btwncentrality_list = [0.001, 0.0015, 0.002, 0.003, 0.004]\n",
    "\n",
    "G_trimmed_new = G_raw\n",
    "for min_btwncentrality in min_btwncentrality_list:\n",
    "    Gtrim_mod = btwncentralitytrim_min(G_trimmed_new, min_btwncentrality)\n",
    "    G_trimmed_new = Gtrim_mod.G\n",
    "    graphs_minbtwncentrality.append(min_btwncentrality)\n",
    "    graphs_modularity6.append(Gtrim_mod.mod) \n",
    "\n",
    "print (graphs_modularity6)\n",
    "print (graphs_minbtwncentrality)"
   ]
  },
  {
   "cell_type": "code",
   "execution_count": 69,
   "metadata": {},
   "outputs": [
    {
     "data": {
      "text/plain": [
       "<Figure size 432x288 with 0 Axes>"
      ]
     },
     "metadata": {},
     "output_type": "display_data"
    },
    {
     "data": {
      "image/png": "[encoded data removed]",
      "text/plain": [
       "<Figure size 960x800 with 6 Axes>"
      ]
     },
     "metadata": {
      "needs_background": "light"
     },
     "output_type": "display_data"
    }
   ],
   "source": [
    "fig = plt.figure()\n",
    "#fig.tight_layout()\n",
    "plt.figure(figsize=(12, 10), dpi=80)\n",
    "\n",
    "left  = 0.125  # the left side of the subplots of the figure\n",
    "right = 0.9    # the right side of the subplots of the figure\n",
    "bottom = 0.1   # the bottom of the subplots of the figure\n",
    "top = 0.9      # the top of the subplots of the figure\n",
    "wspace = 0.2   # the amount of width reserved for blank space between subplots\n",
    "hspace = 0.5   # the amount of height reserved for white space between subplots\n",
    "plt.subplots_adjust(left=left, bottom=bottom, right=right, top=top, wspace=wspace, hspace=hspace)\n",
    "\n",
    "\n",
    "plt.subplot(3, 2, 1)\n",
    "plt.plot(graphs_modularity1)\n",
    "plt.xticks(np.arange(len(graphs_maxdeg)), graphs_maxdeg)\n",
    "plt.ylabel('Q Score')\n",
    "plt.xlabel('Maximum Total-Degree Threshold')\n",
    "plt.grid(True)\n",
    "plt.ylim((0.20,1.00))\n",
    "\n",
    "plt.subplot(3, 2, 2)\n",
    "plt.plot(graphs_modularity2)\n",
    "plt.xticks(np.arange(len(graphs_maxdeg)), graphs_maxdeg)\n",
    "plt.ylabel('Q Score')\n",
    "plt.xlabel('Minimum Total-Degree Threshold')\n",
    "plt.grid(True)\n",
    "plt.ylim((0.20,1.00))\n",
    "\n",
    "\n",
    "plt.subplot(3, 2, 3)\n",
    "plt.plot(graphs_modularity3)\n",
    "plt.xticks(np.arange(len(graphs_maxdegcentrality)), graphs_maxdegcentrality, rotation=45)\n",
    "plt.ylabel('Q Score')\n",
    "plt.xlabel('Maximum Degree-Centrality Threshold')\n",
    "plt.grid(True)\n",
    "plt.ylim((0.20,1.00))\n",
    "\n",
    "plt.subplot(3, 2, 4)\n",
    "plt.plot(graphs_modularity4)\n",
    "plt.xticks(np.arange(len(graphs_mindegcentarlity)), graphs_mindegcentarlity, rotation=45)\n",
    "plt.ylabel('Q Score')\n",
    "plt.xlabel('Minimum Degree-Centrality Threshold')\n",
    "plt.grid(True)\n",
    "plt.ylim((0.20,1.00))\n",
    "\n",
    "plt.subplot(3, 2, 5)\n",
    "plt.plot(graphs_modularity5)\n",
    "plt.xticks(np.arange(len(graphs_maxbtwncentrality)), graphs_maxbtwncentrality)\n",
    "plt.ylabel('Q Score')\n",
    "plt.xlabel('Maximum Betweenness-Centrality Threshold')\n",
    "plt.grid(True)\n",
    "plt.ylim((0.20,1.00))\n",
    "\n",
    "plt.subplot(3, 2, 6)\n",
    "plt.plot(graphs_modularity6)\n",
    "plt.xticks(np.arange(len(graphs_minbtwncentrality)), graphs_minbtwncentrality)\n",
    "plt.ylabel('Q Score')\n",
    "plt.xlabel('Minimum Betweenness-Centrality Threshold')\n",
    "plt.grid(True)\n",
    "plt.ylim((0.20,1.00))\n",
    "\n",
    "\n",
    "plt.show()"
   ]
  },
  {
   "cell_type": "code",
   "execution_count": null,
   "metadata": {},
   "outputs": [],
   "source": [
    "def edgetrim_max(G, max_threshold):\n",
    "    tmpG = copy.deepcopy(G) \n",
    "    for edge in G.edges():\n",
    "        if G.edges[edge]['weight'] >= max_threshold:\n",
    "            tmpG.remove_edge(edge[0], edge[1])\n",
    "\n",
    "    Graph = copy.deepcopy(tmpG)\n",
    "    louvain = community.best_partition(Graph, resolution=1, randomize=False)\n",
    "    mod = community.modularity(louvain, Graph)\n",
    "\n",
    "    embedded = collections.namedtuple('embedded', 'G mod')\n",
    "    result = embedded(G = Graph, mod = mod)\n",
    "\n",
    "    return result\n",
    "\n",
    "def edgetrim_min(G, min_threshold):\n",
    "    tmpG = copy.deepcopy(G) \n",
    "    for edge in G.edges():\n",
    "        if G.edges[edge]['weight'] <= min_threshold:\n",
    "            tmpG.remove_edge(edge[0], edge[1]\n",
    "\n",
    "    Graph = copy.deepcopy(tmpG)\n",
    "    louvain = community.best_partition(Graph, resolution=1, randomize=False)\n",
    "    mod = community.modularity(louvain, Graph)\n",
    "\n",
    "    embedded = collections.namedtuple('embedded', 'G mod')\n",
    "    result = embedded(G = Graph, mod = mod)\n",
    "\n",
    "    return result"
   ]
  },
  {
   "cell_type": "code",
   "execution_count": null,
   "metadata": {},
   "outputs": [],
   "source": []
  },
  {
   "cell_type": "code",
   "execution_count": null,
   "metadata": {},
   "outputs": [],
   "source": []
  },
  {
   "cell_type": "code",
   "execution_count": 23,
   "metadata": {},
   "outputs": [],
   "source": []
  },
  {
   "cell_type": "code",
   "execution_count": null,
   "metadata": {},
   "outputs": [],
   "source": []
  },
  {
   "cell_type": "code",
   "execution_count": null,
   "metadata": {},
   "outputs": [],
   "source": []
  }
 ],
 "metadata": {
  "kernelspec": {
   "display_name": "Python 3",
   "language": "python",
   "name": "python3"
  },
  "language_info": {
   "codemirror_mode": {
    "name": "ipython",
    "version": 3
   },
   "file_extension": ".py",
   "mimetype": "text/x-python",
   "name": "python",
   "nbconvert_exporter": "python",
   "pygments_lexer": "ipython3",
   "version": "3.6.5"
  }
 },
 "nbformat": 4,
 "nbformat_minor": 2
}
