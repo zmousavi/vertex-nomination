{
 "cells": [
  {
   "cell_type": "code",
   "execution_count": 162,
   "metadata": {},
   "outputs": [],
   "source": [
    "%matplotlib inline \n",
    "import collections\n",
    "import matplotlib.pyplot as plt\n",
    "import networkx as nx\n",
    "import numpy as np\n",
    "from sklearn.decomposition import TruncatedSVD\n",
    "from sklearn.random_projection import sparse_random_matrix\n",
    "import copy\n",
    "from sklearn.metrics.cluster import adjusted_rand_score\n",
    "import sys\n",
    "sys.path\n",
    "sys.path.append(r'C:\\Users\\t-zemous\\Dev\\Essex\\rainbow-narwhal\\Zeinab_modules\\msr_graphstats\\msr_graphstats')\n",
    "import lcc \n",
    "import cvecGOOD\n",
    "import ptr\n",
    "import getElbows\n",
    "import scipy\n",
    "import gmm\n",
    "from sklearn.utils.extmath import randomized_svd\n",
    "from sklearn import mixture"
   ]
  },
  {
   "cell_type": "code",
   "execution_count": 2,
   "metadata": {},
   "outputs": [],
   "source": [
    "filename = 'C:/Users/t-zemous/Data/UCI.txt'"
   ]
  },
  {
   "cell_type": "code",
   "execution_count": 138,
   "metadata": {},
   "outputs": [
    {
     "name": "stdout",
     "output_type": "stream",
     "text": [
      "1899\n",
      "1294\n"
     ]
    }
   ],
   "source": [
    "G_raw = nx.read_weighted_edgelist(filename, comments='#', delimiter=' ', create_using=nx.DiGraph(), nodetype=str,  encoding='utf-8')\n",
    "#G_raw = nx.read_weighted_edgelist(filename, comments='#', delimiter=' ', create_using=None, nodetype=str,  encoding='utf-8')\n",
    "print(G_raw.number_of_nodes())\n",
    "G = lcc.extract_lcc(G_raw)\n",
    "print(G.number_of_nodes())\n",
    "\n",
    "out_degree_sequence = sorted([d for n, d in G.out_degree()], reverse=True)  # degree sequence\n",
    "out_degreeCount = collections.Counter(out_degree_sequence)\n",
    "out_deg, out_cnt = zip(*out_degreeCount.items())\n",
    "\n",
    "\n",
    "in_degree_sequence = sorted([d for n, d in G.in_degree()], reverse=True)  # degree sequence\n",
    "in_degreeCount = collections.Counter(in_degree_sequence)\n",
    "in_deg, in_cnt = zip(*in_degreeCount.items())\n",
    "\n",
    "tot_degree_sequence = sorted([d for n, d in G.degree()], reverse=True)  # degree sequence\n",
    "tot_degreeCount = collections.Counter(tot_degree_sequence)\n",
    "tot_deg, tot_cnt = zip(*tot_degreeCount.items())"
   ]
  },
  {
   "cell_type": "code",
   "execution_count": 95,
   "metadata": {
    "scrolled": true
   },
   "outputs": [
    {
     "data": {
      "text/plain": [
       "<Figure size 432x288 with 0 Axes>"
      ]
     },
     "metadata": {},
     "output_type": "display_data"
    },
    {
     "data": {
      "image/png": "[encoded data removed]",
      "text/plain": [
       "<Figure size 640x480 with 4 Axes>"
      ]
     },
     "metadata": {},
     "output_type": "display_data"
    }
   ],
   "source": [
    "fig = plt.figure()\n",
    "#fig.tight_layout()\n",
    "plt.figure(figsize=(8, 6), dpi=80)\n",
    "\n",
    "left  = 0.125  # the left side of the subplots of the figure\n",
    "right = 0.9    # the right side of the subplots of the figure\n",
    "bottom = 0.1   # the bottom of the subplots of the figure\n",
    "top = 0.9      # the top of the subplots of the figure\n",
    "wspace = 1   # the amount of width reserved for blank space between subplots\n",
    "hspace = 1   # the amount of height reserved for white space between subplots\n",
    "plt.subplots_adjust(left=left, bottom=bottom, right=right, top=top, wspace=wspace, hspace=hspace)\n",
    "\n",
    "\n",
    "\n",
    "plt.subplot(2, 2, 1)\n",
    "plt.bar(out_deg, out_cnt, width=0.80, color='b')\n",
    "plt.title(\"Out-degree\")\n",
    "plt.ylabel(\"Count\")\n",
    "#plt.xlabel(\"Out Degree\")\n",
    "plt.ylim(0, 100)\n",
    "\n",
    "plt.subplot(2, 2, 2)\n",
    "plt.bar(in_deg, in_cnt, width=0.80, color='b')\n",
    "plt.title(\"In-degree\")\n",
    "plt.ylabel(\"Count\")\n",
    "#plt.xlabel(\"In Degree\")\n",
    "plt.ylim(0, 100)\n",
    "\n",
    "plt.subplot(2, 2, 3)\n",
    "plt.bar(out_deg[-10:], out_cnt[-10:], width=0.80, color='b')\n",
    "plt.title(\"Out-degree\")\n",
    "plt.ylabel(\"Count\")\n",
    "#plt.xlabel(\"Out Degree\")\n",
    "\n",
    "\n",
    "plt.subplot(2, 2, 4)\n",
    "plt.bar(in_deg[-10:], in_cnt[-10:], width=0.80, color='b')\n",
    "plt.title(\"In-degree\")\n",
    "plt.ylabel(\"Count\")\n",
    "#plt.xlabel(\"In Degree\")\n",
    "\n",
    "\n",
    "# plt.subplot(1, 3, 3)\n",
    "# plt.bar(tot_deg, tot_cnt, width=0.80, color='b')\n",
    "# plt.title(\"Total-degree\")\n",
    "# plt.ylabel(\"Count\")\n",
    "# plt.xlabel(\"Total Degree\")\n",
    "\n",
    "# ax.set_xticks([d + 0.4 for d in deg])\n",
    "# ax.set_xticklabels(deg)\n",
    "# ax.xaxis.set_tick_params(rotation=90)\n",
    "\n",
    "# # draw graph in inset\n",
    "# plt.axes([0.4, 0.4, 0.5, 0.5])\n",
    "# Gcc = sorted(nx.connected_component_subgraphs(G), key=len, reverse=True)[0]\n",
    "# pos = nx.spring_layout(G)\n",
    "# plt.axis('off')\n",
    "# nx.draw_networkx_nodes(G, pos, node_size=20)\n",
    "# nx.draw_networkx_edges(G, pos, alpha=0.4)\n",
    "\n",
    "plt.show()"
   ]
  },
  {
   "cell_type": "code",
   "execution_count": 75,
   "metadata": {},
   "outputs": [],
   "source": [
    "edgeweight_sequence = sorted([edge_data['weight'] for (source, target, edge_data) in G.edges(data=True)], reverse=True)\n",
    "edgeweightCount = collections.Counter(edgeweight_sequence)\n",
    "edgeweight, edgeweight_cnt = zip(*edgeweightCount.items())\n"
   ]
  },
  {
   "cell_type": "code",
   "execution_count": 72,
   "metadata": {},
   "outputs": [
    {
     "data": {
      "text/plain": [
       "Text(0.5,0,'Edge-weight')"
      ]
     },
     "execution_count": 72,
     "metadata": {},
     "output_type": "execute_result"
    },
    {
     "data": {
      "image/png": "[encoded data removed]",
      "text/plain": [
       "<Figure size 480x240 with 1 Axes>"
      ]
     },
     "metadata": {},
     "output_type": "display_data"
    }
   ],
   "source": [
    "plt.figure(figsize=(6, 3), dpi=80)\n",
    "plt.bar(edgeweight, edgeweight_cnt, width=0.80, color='b')\n",
    "plt.title(\"Edge-weight Histogram\")\n",
    "plt.ylabel(\"Count\")\n",
    "plt.xlabel(\"Edge-weight\")\n"
   ]
  },
  {
   "cell_type": "code",
   "execution_count": null,
   "metadata": {
    "scrolled": true
   },
   "outputs": [],
   "source": []
  },
  {
   "cell_type": "code",
   "execution_count": null,
   "metadata": {},
   "outputs": [],
   "source": []
  },
  {
   "cell_type": "code",
   "execution_count": 104,
   "metadata": {},
   "outputs": [],
   "source": []
  },
  {
   "cell_type": "code",
   "execution_count": 126,
   "metadata": {},
   "outputs": [
    {
     "name": "stdout",
     "output_type": "stream",
     "text": [
      "pass_to_ranks\n",
      "spectral embedding into 200 dimensions\n",
      "dimension reduction (elbow selection)\n"
     ]
    }
   ],
   "source": [
    "if 1:\n",
    "    weightcolumn = 'weight'\n",
    "    print(\"pass_to_ranks\")\n",
    "    G_ptr = ptr.pass_to_ranks(G, weightcol=weightcolumn)\n",
    "    G_aug_ptr= cvecGOOD.diag_aug(G_ptr) #, weightcol=weightcolumn)\n",
    "max_dim = 200\n",
    "svd_seed = 1234\n",
    "if 1: \n",
    "    sorted_vertex = sorted(G_aug_ptr.nodes())\n",
    "    A = nx.to_scipy_sparse_matrix(G_aug_ptr, nodelist=sorted_vertex)\n",
    "    \n",
    "    row, col = A.shape\n",
    "    n = min(row, col)\n",
    "\n",
    "#     print (\"spectral embedding into %d dimensions\" %max_dim)\n",
    "    \n",
    "#     U, Sigma, VT = randomized_svd(A, \n",
    "#                               n_components=min(max_dim, n - 1),\n",
    "#                               n_iter=50,\n",
    "#                               random_state=svd_seed)\n",
    "\n",
    "#     print (\"dimension reduction (elbow selection)\")\n",
    "   \n",
    "    "
   ]
  },
  {
   "cell_type": "code",
   "execution_count": 127,
   "metadata": {},
   "outputs": [],
   "source": [
    "\n",
    "\n",
    "#A = sparse_random_matrix(100, 100, density=0.01, random_state=42)\n",
    "#svd = TruncatedSVD(n_components=min(max_dim, n - 1), n_iter=7, random_state=svd_seed)\n",
    "svd = TruncatedSVD(n_components=200, n_iter=7, random_state=svd_seed)\n",
    "\n",
    "svd.fit(A)  \n",
    "ase_var_ratio = svd.explained_variance_ratio_\n",
    "\n",
    "if 1: \n",
    "    deg = (A.sum(axis=1).T).astype(float) \n",
    "    deg_array = np.squeeze(np.asarray(deg))\n",
    "    D = np.diag(deg_array**(-0.5))\n",
    "    LSE_Matrix = D @ A @ D \n",
    "    svd.fit(LSE_Matrix)\n",
    "    lse_undir_var_ratio = svd.explained_variance_ratio_\n",
    "\n",
    "\n",
    "# if 1:\n",
    "#     #print (\"spectral embedding into %d dimensions\" %max_dim)\n",
    "#     U, Sigma, VT = randomized_svd(LSE_Matrix, \n",
    "#                               n_components=min(max_dim, n - 1),\n",
    "#                               n_iter=50,\n",
    "#                               random_state=svd_seed)\n",
    "\n",
    "if 1:  \n",
    "    deg = (A.sum(axis=1).T + A.sum(axis=0)).astype(float) \n",
    "    deg_array = np.squeeze(np.asarray(deg))\n",
    "    D = np.diag(deg_array**(-1))\n",
    "    LSE_Matrix = np.identity(n) - D @ A\n",
    "    svd.fit(LSE_Matrix)\n",
    "    lse_dir_var_ratio = svd.explained_variance_ratio_\n"
   ]
  },
  {
   "cell_type": "code",
   "execution_count": 129,
   "metadata": {},
   "outputs": [
    {
     "data": {
      "text/plain": [
       "Text(0.5,0.98,'Screeplots of the Weighted Graph, with ptr')"
      ]
     },
     "execution_count": 129,
     "metadata": {},
     "output_type": "execute_result"
    },
    {
     "data": {
      "text/plain": [
       "<Figure size 432x288 with 0 Axes>"
      ]
     },
     "metadata": {},
     "output_type": "display_data"
    },
    {
     "data": {
      "image/png": "[encoded data removed]",
      "text/plain": [
       "<Figure size 1120x320 with 3 Axes>"
      ]
     },
     "metadata": {},
     "output_type": "display_data"
    }
   ],
   "source": [
    "fig = plt.figure()\n",
    "fig.tight_layout()\n",
    "plt.figure(figsize=(14, 4), dpi=80)\n",
    "\n",
    "left  = 0.125  # the left side of the subplots of the figure\n",
    "right = 0.9    # the right side of the subplots of the figure\n",
    "bottom = 0.1   # the bottom of the subplots of the figure\n",
    "top = 0.9      # the top of the subplots of the figure\n",
    "wspace = 1   # the amount of width reserved for blank space between subplots\n",
    "hspace = 1   # the amount of height reserved for white space between subplots\n",
    "plt.subplots_adjust(left=left, bottom=bottom, right=right, top=top, wspace=wspace, hspace=hspace)\n",
    "\n",
    "\n",
    "\n",
    "plt.subplot(1, 3, 1)\n",
    "plt.plot(ase_var_ratio)  #, '--o'\n",
    "#plt.semilogy(svd.explained_variance_ratio_)\n",
    "plt.ylabel(\"explained variance ratio\") \n",
    "plt.title(\"ASE\")\n",
    "plt.grid()\n",
    "\n",
    "plt.subplot(1, 3, 2)\n",
    "plt.plot(lse_undir_var_ratio)  #, '--o'\n",
    "#plt.semilogy(svd.explained_variance_ratio_)\n",
    "plt.ylabel(\"explained variance ratio\") \n",
    "plt.title(\"LSE undirected,  L = DAD \")\n",
    "plt.grid()\n",
    "\n",
    "plt.subplot(1, 3, 3)\n",
    "plt.plot(lse_dir_var_ratio)  #, '--o'\n",
    "#plt.semilogy(svd.explained_variance_ratio_)\n",
    "plt.ylabel(\"explained variance ratio\") \n",
    "plt.title(\"LSE directed,  L = I - DA \")\n",
    "plt.grid()\n",
    "\n",
    "plt.subplots_adjust(top=0.85)\n",
    "plt.suptitle('Screeplots of the Weighted Graph, with ptr')"
   ]
  },
  {
   "cell_type": "code",
   "execution_count": 130,
   "metadata": {},
   "outputs": [],
   "source": [
    "G_binary = copy.deepcopy(G)\n",
    "if 1:\n",
    "    for edge in G.edges():\n",
    "        if G_raw.edges[edge]['weight'] >= 1:\n",
    "            G_binary[edge[0]][edge[1]]['weight'] = 1\n"
   ]
  },
  {
   "cell_type": "code",
   "execution_count": 131,
   "metadata": {},
   "outputs": [
    {
     "name": "stdout",
     "output_type": "stream",
     "text": [
      "spectral embedding into 200 dimensions\n",
      "dimension reduction (elbow selection)\n"
     ]
    }
   ],
   "source": [
    "\n",
    "max_dim = 200\n",
    "svd_seed = 1234\n",
    "if 1: \n",
    "    sorted_vertex = sorted(G_binary.nodes())\n",
    "    A_bin = nx.to_scipy_sparse_matrix(G_binary, nodelist=sorted_vertex)\n",
    "    \n",
    "    row, col = A_bin.shape\n",
    "    n = min(row, col)\n",
    "\n",
    "    print (\"spectral embedding into %d dimensions\" %max_dim)\n",
    "    \n",
    "    U, Sigma, VT = randomized_svd(A_bin, \n",
    "                              n_components=min(max_dim, n - 1),\n",
    "                              n_iter=50,\n",
    "                              random_state=svd_seed)\n",
    "\n",
    "    print (\"dimension reduction (elbow selection)\")\n",
    "   "
   ]
  },
  {
   "cell_type": "code",
   "execution_count": 132,
   "metadata": {},
   "outputs": [],
   "source": [
    "\n",
    "svd = TruncatedSVD(n_components=200, n_iter=7, random_state=svd_seed)\n",
    "\n",
    "svd.fit(A_bin)  \n",
    "ase_bin_var_ratio = svd.explained_variance_ratio_\n",
    "\n",
    "if 1: \n",
    "    deg = (A_bin.sum(axis=1).T).astype(float) \n",
    "    deg_array = np.squeeze(np.asarray(deg))\n",
    "    D = np.diag(deg_array**(-0.5))\n",
    "    LSE_Matrix = D @ A_bin @ D \n",
    "    svd.fit(LSE_Matrix)\n",
    "    lse_bin_undir_var_ratio = svd.explained_variance_ratio_\n",
    "\n",
    "\n",
    "\n",
    "if 1:  \n",
    "    deg = (A_bin.sum(axis=1).T + A_bin.sum(axis=0)).astype(float) \n",
    "    deg_array = np.squeeze(np.asarray(deg))\n",
    "    D = np.diag(deg_array**(-1))\n",
    "    LSE_Matrix = np.identity(n) - D @ A_bin\n",
    "    svd.fit(LSE_Matrix)\n",
    "    lse_bin_dir_var_ratio = svd.explained_variance_ratio_\n"
   ]
  },
  {
   "cell_type": "code",
   "execution_count": 133,
   "metadata": {},
   "outputs": [
    {
     "data": {
      "text/plain": [
       "Text(0.5,0.98,'Screeplots of the Binarized Graph')"
      ]
     },
     "execution_count": 133,
     "metadata": {},
     "output_type": "execute_result"
    },
    {
     "data": {
      "text/plain": [
       "<Figure size 432x288 with 0 Axes>"
      ]
     },
     "metadata": {},
     "output_type": "display_data"
    },
    {
     "data": {
      "image/png": "[encoded data removed]",
      "text/plain": [
       "<Figure size 1120x320 with 3 Axes>"
      ]
     },
     "metadata": {},
     "output_type": "display_data"
    }
   ],
   "source": [
    "fig = plt.figure()\n",
    "#fig.tight_layout()\n",
    "plt.figure(figsize=(14, 4), dpi=80)\n",
    "\n",
    "left  = 0.125  # the left side of the subplots of the figure\n",
    "right = 0.9    # the right side of the subplots of the figure\n",
    "bottom = 0.1   # the bottom of the subplots of the figure\n",
    "top = 1      # the top of the subplots of the figure\n",
    "wspace = 1   # the amount of width reserved for blank space between subplots\n",
    "hspace = 1   # the amount of height reserved for white space between subplots\n",
    "plt.subplots_adjust(left=left, bottom=bottom, right=right, top=top, wspace=wspace, hspace=hspace)\n",
    "\n",
    "\n",
    "\n",
    "plt.subplot(1, 3, 1)\n",
    "plt.plot(ase_bin_var_ratio)  #, '--o'\n",
    "#plt.semilogy(svd.explained_variance_ratio_)\n",
    "plt.ylabel(\"explained variance ratio\") \n",
    "plt.title(\"ASE\")\n",
    "plt.grid()\n",
    "\n",
    "plt.subplot(1, 3, 2)\n",
    "plt.plot(lse_bin_undir_var_ratio)  #, '--o'\n",
    "#plt.semilogy(svd.explained_variance_ratio_)\n",
    "plt.ylabel(\"explained variance ratio\") \n",
    "plt.title(\"LSE undirected,  L = DAD \")\n",
    "plt.grid()\n",
    "\n",
    "plt.subplot(1, 3, 3)\n",
    "plt.plot(lse_bin_dir_var_ratio)  #, '--o'\n",
    "#plt.semilogy(svd.explained_variance_ratio_)\n",
    "plt.ylabel(\"explained variance ratio\") \n",
    "plt.title(\"LSE directed,  L = I - DA \")\n",
    "plt.grid()\n",
    "\n",
    "plt.subplots_adjust(top=0.85)\n",
    "plt.suptitle('Screeplots of the Binarized Graph')"
   ]
  },
  {
   "cell_type": "code",
   "execution_count": 134,
   "metadata": {},
   "outputs": [
    {
     "name": "stdout",
     "output_type": "stream",
     "text": [
      "spectral embedding into 200 dimensions\n",
      "dimension reduction (elbow selection)\n"
     ]
    }
   ],
   "source": [
    "#NO PTR \n",
    "\n",
    "max_dim = 200\n",
    "svd_seed = 1234\n",
    "if 1: \n",
    "    sorted_vertex = sorted(G.nodes())\n",
    "    A_noptr = nx.to_scipy_sparse_matrix(G, nodelist=sorted_vertex)\n",
    "    \n",
    "    row, col = A_noptr.shape\n",
    "    n = min(row, col)\n",
    "\n",
    "#     print (\"spectral embedding into %d dimensions\" %max_dim)\n",
    "    \n",
    "#     U, Sigma, VT = randomized_svd(A_noptr, \n",
    "#                               n_components=min(max_dim, n - 1),\n",
    "#                               n_iter=50,\n",
    "#                               random_state=svd_seed)\n",
    "\n",
    "#     print (\"dimension reduction (elbow selection)\")\n",
    "   \n",
    "    "
   ]
  },
  {
   "cell_type": "code",
   "execution_count": 135,
   "metadata": {},
   "outputs": [],
   "source": [
    "\n",
    "svd = TruncatedSVD(n_components=200, n_iter=7, random_state=svd_seed)\n",
    "\n",
    "svd.fit(A_noptr)  \n",
    "ase_noptr_var_ratio = svd.explained_variance_ratio_\n",
    "\n",
    "if 1: \n",
    "    deg = (A_noptr.sum(axis=1).T).astype(float) \n",
    "    deg_array = np.squeeze(np.asarray(deg))\n",
    "    D = np.diag(deg_array**(-0.5))\n",
    "    LSE_Matrix = D @ A_noptr @ D \n",
    "    svd.fit(LSE_Matrix)\n",
    "    lse_noptr_undir_var_ratio = svd.explained_variance_ratio_\n",
    "\n",
    "\n",
    "\n",
    "if 1:  \n",
    "    deg = (A_noptr.sum(axis=1).T + A_noptr.sum(axis=0)).astype(float) \n",
    "    deg_array = np.squeeze(np.asarray(deg))\n",
    "    D = np.diag(deg_array**(-1))\n",
    "    LSE_Matrix = np.identity(n) - D @ A_noptr\n",
    "    svd.fit(LSE_Matrix)\n",
    "    lse_noptr_dir_var_ratio = svd.explained_variance_ratio_\n"
   ]
  },
  {
   "cell_type": "code",
   "execution_count": 136,
   "metadata": {},
   "outputs": [
    {
     "data": {
      "text/plain": [
       "Text(0.5,0.98,'Screeplots of the Weighted Graph -no ptr')"
      ]
     },
     "execution_count": 136,
     "metadata": {},
     "output_type": "execute_result"
    },
    {
     "data": {
      "text/plain": [
       "<Figure size 432x288 with 0 Axes>"
      ]
     },
     "metadata": {},
     "output_type": "display_data"
    },
    {
     "data": {
      "image/png": "[encoded data removed]",
      "text/plain": [
       "<Figure size 1120x320 with 3 Axes>"
      ]
     },
     "metadata": {},
     "output_type": "display_data"
    }
   ],
   "source": [
    "fig = plt.figure()\n",
    "#fig.tight_layout()\n",
    "plt.figure(figsize=(14, 4), dpi=80)\n",
    "\n",
    "left  = 0.125  # the left side of the subplots of the figure\n",
    "right = 0.9    # the right side of the subplots of the figure\n",
    "bottom = 0.1   # the bottom of the subplots of the figure\n",
    "top = 1      # the top of the subplots of the figure\n",
    "wspace = 1   # the amount of width reserved for blank space between subplots\n",
    "hspace = 1   # the amount of height reserved for white space between subplots\n",
    "plt.subplots_adjust(left=left, bottom=bottom, right=right, top=top, wspace=wspace, hspace=hspace)\n",
    "\n",
    "\n",
    "\n",
    "plt.subplot(1, 3, 1)\n",
    "plt.plot(ase_noptr_var_ratio)  #, '--o'\n",
    "#plt.semilogy(svd.explained_variance_ratio_)\n",
    "plt.ylabel(\"explained variance ratio\") \n",
    "plt.title(\"ASE\")\n",
    "plt.grid()\n",
    "\n",
    "plt.subplot(1, 3, 2)\n",
    "plt.plot(lse_noptr_undir_var_ratio)  #, '--o'\n",
    "#plt.semilogy(svd.explained_variance_ratio_)\n",
    "plt.ylabel(\"explained variance ratio\") \n",
    "plt.title(\"LSE undirected,  L = DAD \")\n",
    "plt.grid()\n",
    "\n",
    "plt.subplot(1, 3, 3)\n",
    "plt.plot(lse_noptr_dir_var_ratio)  #, '--o'\n",
    "#plt.semilogy(svd.explained_variance_ratio_)\n",
    "plt.ylabel(\"explained variance ratio\") \n",
    "plt.title(\"LSE directed,  L = I - DA \")\n",
    "plt.grid()\n",
    "\n",
    "plt.subplots_adjust(top=0.85)\n",
    "plt.suptitle('Screeplots of the Weighted Graph -no ptr')"
   ]
  },
  {
   "cell_type": "code",
   "execution_count": 163,
   "metadata": {},
   "outputs": [
    {
     "name": "stderr",
     "output_type": "stream",
     "text": [
      "c:\\users\\t-zemous\\dev\\first\\lib\\site-packages\\sklearn\\mixture\\base.py:237: ConvergenceWarning: Initialization 1 did not converge. Try different init parameters, or increase max_iter, tol or check for degenerate data.\n",
      "  % (init + 1), ConvergenceWarning)\n"
     ]
    }
   ],
   "source": [
    "\n",
    "svd = TruncatedSVD(n_components=200, n_iter=7, random_state=svd_seed)\n",
    "svd.fit(A)  \n",
    "X_ase = svd.transform(A)           \n",
    "\n",
    "ASE_cluster = gmm.gaussian_clustering(X_ase, max_clusters = 50, min_clusters=2)\n",
    "\n",
    "if 1:  \n",
    "    deg = (A.sum(axis=1).T + A.sum(axis=0)).astype(float) \n",
    "    deg_array = np.squeeze(np.asarray(deg))\n",
    "    D = np.diag(deg_array**(-1))\n",
    "    LSE_Matrix = np.identity(n) - D @ A\n",
    "    svd_lse = svd.fit(LSE_Matrix)\n",
    "    X_lse = svd_lse.transform(A) \n",
    "\n",
    "LSE_cluster = gmm.gaussian_clustering(X_lse, max_clusters = 50, min_clusters=2) \n",
    "\n",
    "ari_result = adjusted_rand_score(ASE_cluster, LSE_cluster)"
   ]
  },
  {
   "cell_type": "code",
   "execution_count": 165,
   "metadata": {},
   "outputs": [
    {
     "data": {
      "text/plain": [
       "0.19034843234470994"
      ]
     },
     "execution_count": 165,
     "metadata": {},
     "output_type": "execute_result"
    }
   ],
   "source": [
    "ari_result"
   ]
  },
  {
   "cell_type": "code",
   "execution_count": null,
   "metadata": {},
   "outputs": [],
   "source": []
  },
  {
   "cell_type": "code",
   "execution_count": 158,
   "metadata": {},
   "outputs": [
    {
     "name": "stdout",
     "output_type": "stream",
     "text": [
      "spectral embedding into 200 dimensions\n"
     ]
    },
    {
     "data": {
      "text/plain": [
       "[<matplotlib.lines.Line2D at 0x2a193afa128>]"
      ]
     },
     "execution_count": 158,
     "metadata": {},
     "output_type": "execute_result"
    },
    {
     "data": {
      "image/png": "[encoded data removed]",
      "text/plain": [
       "<Figure size 432x288 with 1 Axes>"
      ]
     },
     "metadata": {},
     "output_type": "display_data"
    }
   ],
   "source": [
    "A_try = nx.to_numpy_matrix(G, nodelist=sorted_vertex)\n",
    "if 1:\n",
    "    row, col = A_noptr.shape\n",
    "    n = min(row, col)\n",
    "\n",
    "    print (\"spectral embedding into %d dimensions\" %max_dim)\n",
    "    \n",
    "    U, Sigma, VT = randomized_svd(A_try, \n",
    "                              n_components=min(max_dim, n - 1),\n",
    "                              n_iter=50,\n",
    "                              random_state=svd_seed)\n",
    "\n",
    "X_transformed = np.dot(U, np.diag(Sigma))\n",
    "exp_var = np.var(X_transformed, axis=0)\n",
    "\n",
    "full_var = np.var(A_try, axis=0).sum()\n",
    "    \n",
    "ratio = exp_var / full_var\n",
    "plt.plot(ratio)"
   ]
  },
  {
   "cell_type": "code",
   "execution_count": null,
   "metadata": {},
   "outputs": [],
   "source": [
    "\n"
   ]
  },
  {
   "cell_type": "code",
   "execution_count": 71,
   "metadata": {},
   "outputs": [],
   "source": [
    "# X_transformed = np.dot(U, np.diag(Sigma))\n",
    "# np.var(X_transformed, axis=0) \n",
    "# np.var(A, axis=0).sum()\n",
    "\n",
    "\n",
    "# import numpy as np\n",
    "# from sklearn.decomposition import TruncatedSVD\n",
    "\n",
    "# model = TruncatedSVD(n_components=10).fit(X)\n",
    "# X_proj = model.transform(X)\n",
    "# explained_variances = np.var(X_proj, axis=0) / np.var(X, axis=0).sum()"
   ]
  },
  {
   "cell_type": "code",
   "execution_count": null,
   "metadata": {},
   "outputs": [],
   "source": [
    "# from sklearn.decomposition import TruncatedSVD\n",
    "# from sklearn.random_projection import sparse_random_matrix\n",
    "# X = sparse_random_matrix(100, 100, density=0.01, random_state=42)\n",
    "# svd = TruncatedSVD(n_components=5, n_iter=7, random_state=42)\n",
    "# svd.fit(X)  \n",
    "# TruncatedSVD(algorithm='randomized', n_components=5, n_iter=7,\n",
    "#         random_state=42, tol=0.0)\n",
    "# print(svd.explained_variance_ratio_)  \n",
    "\n"
   ]
  },
  {
   "cell_type": "code",
   "execution_count": 70,
   "metadata": {},
   "outputs": [],
   "source": [
    "#X.var(0)\n",
    "#np.var(X, axis=0)"
   ]
  },
  {
   "cell_type": "code",
   "execution_count": 141,
   "metadata": {},
   "outputs": [],
   "source": [
    "# import numpy as np\n",
    "# from sklearn.decomposition import PCA\n",
    "\n",
    "# np.random.seed(0)\n",
    "# my_matrix = np.random.randn(20, 5)\n",
    "\n",
    "# my_model = PCA(n_components=5)\n",
    "# my_model.fit_transform(my_matrix)\n",
    "\n",
    "# print (my_model.explained_variance_)\n",
    "# print (my_model.explained_variance_ratio_)\n"
   ]
  },
  {
   "cell_type": "code",
   "execution_count": 142,
   "metadata": {},
   "outputs": [],
   "source": [
    "#my_model.components_"
   ]
  },
  {
   "cell_type": "code",
   "execution_count": null,
   "metadata": {},
   "outputs": [],
   "source": [
    "# pca\n",
    "# explained_variance_ = (S ** 2) / n_samples\n",
    "# explained_variance_ratio_ = (explained_variance_ /\n",
    "#                              explained_variance_.sum())\n",
    "\n",
    "# X_transformed = np.dot(U, np.diag(Sigma))\n",
    "# self.explained_variance_ = exp_var = np.var(X_transformed, axis=0)\n",
    "# if sp.issparse(X):\n",
    "#     _, full_var = mean_variance_axis(X, axis=0)\n",
    "#     full_var = full_var.sum()\n",
    "# else:\n",
    "#     full_var = np.var(X, axis=0).sum()\n",
    "    \n",
    "# self.explained_variance_ratio_ = exp_var / full_var\n"
   ]
  },
  {
   "cell_type": "code",
   "execution_count": 140,
   "metadata": {},
   "outputs": [],
   "source": [
    "#X_transformed = np.dot(U, np.diag(Sigma))\n",
    "#np.var(X_transformed, axis=0) / np.var(A, axis=0).sum()"
   ]
  },
  {
   "cell_type": "code",
   "execution_count": 149,
   "metadata": {},
   "outputs": [
    {
     "data": {
      "text/plain": [
       "scipy.sparse.csr.csr_matrix"
      ]
     },
     "execution_count": 149,
     "metadata": {},
     "output_type": "execute_result"
    }
   ],
   "source": [
    "type(A)"
   ]
  },
  {
   "cell_type": "code",
   "execution_count": 139,
   "metadata": {},
   "outputs": [],
   "source": [
    "    \n",
    "#     reduced_dim = rank_graph[(elb-1)]\n",
    "#     print (\"elbow is %d\" %reduced_dim)\n",
    "#     s_sqrt = np.sqrt(Sigma) #[np.newaxis] Zeinab commented this out\n",
    "\n",
    "    \n",
    "#     s_sqrt_dim_reduced = s_sqrt[:reduced_dim]\n",
    "#     U_dim_reduced = U[:, :reduced_dim ]\n",
    "#     VT_dim_reduced =VT[:reduced_dim, :]\n",
    "\n",
    "#     Xhat1 = np.multiply( s_sqrt_dim_reduced, U_dim_reduced)\n",
    "          \n",
    "#     if nx.is_directed(G) == False:\n",
    "#         Xhat2 = np.array([]).reshape(Xhat1.shape[0],0)\n",
    "#     else:\n",
    "#         Xhat2 = np.multiply( np.transpose(VT_dim_reduced), s_sqrt_dim_reduced)\n",
    "#     Xhat = np.concatenate((Xhat1, Xhat2), axis=1)\n",
    "    \n",
    "#     embedded = collections.namedtuple('embedded', 'X vertex_labels')"
   ]
  },
  {
   "cell_type": "code",
   "execution_count": null,
   "metadata": {},
   "outputs": [],
   "source": []
  },
  {
   "cell_type": "code",
   "execution_count": null,
   "metadata": {},
   "outputs": [],
   "source": []
  }
 ],
 "metadata": {
  "kernelspec": {
   "display_name": "Python 3",
   "language": "python",
   "name": "python3"
  },
  "language_info": {
   "codemirror_mode": {
    "name": "ipython",
    "version": 3
   },
   "file_extension": ".py",
   "mimetype": "text/x-python",
   "name": "python",
   "nbconvert_exporter": "python",
   "pygments_lexer": "ipython3",
   "version": "3.6.5"
  }
 },
 "nbformat": 4,
 "nbformat_minor": 2
}
