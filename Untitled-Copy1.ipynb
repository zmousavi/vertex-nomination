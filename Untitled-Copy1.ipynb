{
 "cells": [
  {
   "cell_type": "code",
   "execution_count": 29,
   "metadata": {},
   "outputs": [],
   "source": [
    "#!/usr/bin/env python\n",
    "# coding: utf-8\n",
    "\n",
    "# In[24]:\n",
    "\n",
    "\n",
    "import networkx as nx\n",
    "import community\n",
    "from community import community_louvain\n",
    "import numpy as np\n",
    "import copy  \n",
    "import matplotlib.pyplot as plt\n",
    "import collections\n",
    "import graph_ase_BNU\n",
    "from sklearn.utils.extmath import randomized_svd\n",
    "import collections\n",
    "import lcc_BNU\n",
    "from scipy.stats import binom_test\n",
    "\n",
    "# In[17]:\n",
    "\n",
    "\n",
    "def ase_graph(G): \n",
    "    sorted_vertex = sorted(G.nodes())\n",
    "    A = nx.to_scipy_sparse_matrix(G, nodelist=sorted_vertex)\n",
    "    n = G.number_of_nodes()\n",
    "    max_dim = max_dim_ase\n",
    "    \n",
    "    svd_seed = 1234\n",
    "    U, Sigma, VT = randomized_svd(A, \n",
    "                              n_components=min(max_dim, n - 1),\n",
    "                              n_iter=50,\n",
    "                              random_state=svd_seed)\n",
    "\n",
    "    ##print (\"dimension reduction (elbow selection)\")\n",
    "    #rank_graph =  getElbows_BNU.getElbows(Sigma, n_elbows=elb)\n",
    "    \n",
    "    #reduced_dim = rank_graph[(elb-1)]\n",
    "    ##print (\"elbow is %d\" %reduced_dim)\n",
    "\n",
    "    reduced_dim = 2 \n",
    "    s_sqrt = np.sqrt(Sigma) \n",
    "\n",
    "    \n",
    "    s_sqrt_dim_reduced = s_sqrt[:reduced_dim]\n",
    "    U_dim_reduced = U[:, :reduced_dim ]\n",
    "    VT_dim_reduced =VT[:reduced_dim, :]\n",
    "\n",
    "    Xhat = np.multiply( s_sqrt_dim_reduced, U_dim_reduced)\n",
    "    \n",
    "    embedded_dict = {}\n",
    "    for _, vertex in enumerate(sorted_vertex):\n",
    "        embedded_dict[vertex] = Xhat[_, :]\n",
    "     \n",
    "    \n",
    "    embedded = collections.namedtuple('embedded', 'Xhat vertex_labels dict')\n",
    "    result = embedded(Xhat = Xhat, vertex_labels = sorted_vertex, dict = embedded_dict)\n",
    "    \n",
    "    return result\n",
    "\n",
    "def sqdist(vector):\n",
    "    return sum(x*x for x in vector)\n",
    "\n",
    "def degtrim_max(G, max_threshold):\n",
    "    tmpG = copy.deepcopy(G)\n",
    "\n",
    "    for vertex in G.nodes():\n",
    "        if G.degree[vertex] >= max_threshold:\n",
    "            tmpG.remove_node(vertex)\n",
    "\n",
    "    Graph = copy.deepcopy(tmpG)\n",
    "    louvain = community.best_partition(Graph, resolution=1, randomize=False)\n",
    "    mod = community.modularity(louvain, Graph)\n",
    "\n",
    "    embedded = collections.namedtuple('embedded', 'G mod')\n",
    "    result = embedded(G = Graph, mod = mod)\n",
    "\n",
    "    return result\n",
    "\n",
    "def degtrim_minmax(G, percent_threshold):\n",
    "\n",
    "    tmpG = copy.deepcopy(G)\n",
    "    sorted_degrees_desc = sorted(G.degree, key=lambda x: x[1], reverse=True)\n",
    "    sorted_degrees_asc = sorted(G.degree, key=lambda x: x[1], reverse=False)\n",
    "    count_threshold = int(percent_threshold * G.number_of_nodes())\n",
    "    ctr = 0 \n",
    "    if ctr <= count_threshold:\n",
    "        high_trim = sorted_degrees_desc[ctr][0]\n",
    "        low_trim = sorted_degrees_asc[ctr][0]\n",
    "        tmpG.remove_node(high_trim)\n",
    "        tmpG.remove_node(low_trim)\n",
    "        ctr += 1\n",
    "        \n",
    "\n",
    "    Graph = copy.deepcopy(tmpG)\n",
    "    louvain = community.best_partition(Graph, resolution=1, randomize=False)\n",
    "    mod = community.modularity(louvain, Graph)\n",
    "\n",
    "    embedded = collections.namedtuple('embedded', 'G mod')\n",
    "    result = embedded(G = Graph, mod = mod)\n",
    "\n",
    "    return result\n",
    "\n",
    "#procrustes\n",
    "def procrustes(A, B):\n",
    "    tmp = A.T @ B\n",
    "    U_tmp, Sigma_tmp, VT_tmp = np.linalg.svd(tmp)\n",
    "    W = U_tmp @ VT_tmp\n",
    "    return W\n",
    "    #A@W - B\n",
    "    \n",
    "    \n",
    "def degtrim_max(G, max_threshold):\n",
    "    tmpG = copy.deepcopy(G)\n",
    "\n",
    "    for vertex in G.nodes():\n",
    "        if G.degree[vertex] >= max_threshold:\n",
    "            tmpG.remove_node(vertex)\n",
    "\n",
    "    Graph = copy.deepcopy(tmpG)\n",
    "    louvain = community.best_partition(Graph, resolution=1, randomize=False)\n",
    "    mod = community.modularity(louvain, Graph)\n",
    "\n",
    "    embedded = collections.namedtuple('embedded', 'G mod')\n",
    "    result = embedded(G = Graph, mod = mod)\n",
    "\n",
    "    return result\n",
    "\n",
    "def degtrim_minmax(G, percent_threshold):\n",
    "\n",
    "    tmpG = copy.deepcopy(G)\n",
    "    sorted_degrees_desc = sorted(G.degree, key=lambda x: x[1], reverse=True)\n",
    "    sorted_degrees_asc = sorted(G.degree, key=lambda x: x[1], reverse=False)\n",
    "    count_threshold = int(percent_threshold * G.number_of_nodes())\n",
    "    ctr = 0 \n",
    "    if ctr <= count_threshold:\n",
    "        high_trim = sorted_degrees_desc[ctr][0]\n",
    "        low_trim = sorted_degrees_asc[ctr][0]\n",
    "        tmpG.remove_node(high_trim)\n",
    "        tmpG.remove_node(low_trim)\n",
    "        ctr += 1\n",
    "        \n",
    "\n",
    "    Graph = copy.deepcopy(tmpG)\n",
    "    louvain = community.best_partition(Graph, resolution=1, randomize=False)\n",
    "    mod = community.modularity(louvain, Graph)\n",
    "\n",
    "    embedded = collections.namedtuple('embedded', 'G mod')\n",
    "    result = embedded(G = Graph, mod = mod)\n",
    "\n",
    "    return result\n",
    "\n",
    "\n",
    "def degtrim_minpercent(G, percent_threshold):\n",
    "\n",
    "    tmpG = copy.deepcopy(G)\n",
    "    sorted_degrees_asc = sorted(G.degree, key=lambda x: x[1], reverse=False)\n",
    "    count_threshold = int(percent_threshold * G.number_of_nodes())\n",
    "    ctr = 0 \n",
    "    if ctr <= count_threshold:\n",
    "        low_trim = sorted_degrees_asc[ctr][0]\n",
    "        tmpG.remove_node(low_trim)\n",
    "        ctr += 1\n",
    "        \n",
    "\n",
    "    Graph = copy.deepcopy(tmpG)\n",
    "    louvain = community.best_partition(Graph, resolution=1, randomize=False)\n",
    "    mod = community.modularity(louvain, Graph)\n",
    "\n",
    "    embedded = collections.namedtuple('embedded', 'G mod')\n",
    "    result = embedded(G = Graph, mod = mod)\n",
    "\n",
    "    return result\n",
    "\n",
    "\n",
    "def degtrim_maxpercent(G, percent_threshold):\n",
    "\n",
    "    tmpG = copy.deepcopy(G)\n",
    "    sorted_degrees_desc = sorted(G.degree, key=lambda x: x[1], reverse=True)\n",
    "    count_threshold = int(percent_threshold * G.number_of_nodes())\n",
    "    ctr = 0 \n",
    "    if ctr <= count_threshold:\n",
    "        high_trim = sorted_degrees_desc[ctr][0]\n",
    "        tmpG.remove_node(high_trim)\n",
    "        ctr += 1\n",
    "        \n",
    "\n",
    "    Graph = copy.deepcopy(tmpG)\n",
    "    louvain = community.best_partition(Graph, resolution=1, randomize=False)\n",
    "    mod = community.modularity(louvain, Graph)\n",
    "\n",
    "    embedded = collections.namedtuple('embedded', 'G mod')\n",
    "    result = embedded(G = Graph, mod = mod)\n",
    "\n",
    "    return result"
   ]
  },
  {
   "cell_type": "code",
   "execution_count": 177,
   "metadata": {},
   "outputs": [
    {
     "name": "stdout",
     "output_type": "stream",
     "text": [
      "136\n",
      "88\n",
      "141\n",
      "88\n"
     ]
    }
   ],
   "source": [
    "file_G0 = r'/Users/z/Desktop/execs_email_t108.txt'\n",
    "file_G1 = r'/Users/z/Desktop/execs_email_t110.txt'\n",
    "\n",
    "\n",
    "G0 = nx.read_weighted_edgelist(file_G0, comments='#', delimiter=' ', create_using=None, nodetype=str,  encoding='utf-8')\n",
    "G1 = nx.read_weighted_edgelist(file_G1, comments='#', delimiter=' ', create_using=None, nodetype=str,  encoding='utf-8')\n",
    "\n",
    "\n",
    "\n",
    "\n",
    "print(G0.size())\n",
    "print(G0.number_of_nodes())\n",
    "print(G1.size())\n",
    "print(G1.number_of_nodes())\n",
    "\n",
    "\n",
    "#G1_misses = set(G0.nodes()) - set(G1.nodes())\n",
    "#G0_misses = set(G1.nodes()) - set(G0.nodes())\n",
    "\n",
    "\n",
    "\n",
    "# G0_world =  G_G0\n",
    "# G0_world.add_nodes_from(G_G1)\n",
    "# G1_world =  G_G1\n",
    "# G1_world.add_nodes_from(G_G0)\n",
    "\n",
    "\n",
    "\n",
    "\n",
    "# print(G0.size())\n",
    "# print(G0.number_of_nodes())\n",
    "# print(G1.size())\n",
    "# print(G1.number_of_nodes())\n",
    "# print(G0_world.size())\n",
    "# print(G0_world.number_of_nodes())\n",
    "# print(G1_world.size())\n",
    "# print(G1_world.number_of_nodes())"
   ]
  },
  {
   "cell_type": "code",
   "execution_count": 178,
   "metadata": {},
   "outputs": [
    {
     "name": "stdout",
     "output_type": "stream",
     "text": [
      "88\n",
      "73\n",
      "88\n",
      "73\n"
     ]
    }
   ],
   "source": [
    "intersecting_G0_noise =   set(G0.nodes()).intersection(set(G1.nodes()))\n",
    "\n",
    "remove_from_G0 = set(G0.nodes())-set(G1.nodes())\n",
    "G0_shared_G1 = copy.deepcopy(G0)\n",
    "for vertex in list(remove_from_G0):\n",
    "    G0_shared_G1.remove_node(vertex)\n",
    "\n",
    "print(G0.number_of_nodes())\n",
    "print(G0_shared_G1.number_of_nodes())\n",
    "    \n",
    "\n",
    "remove_from_G1 = set(G1.nodes())-set(G0.nodes())\n",
    "G1_shared_G0 = copy.deepcopy(G1)\n",
    "for vertex in list(remove_from_G1):\n",
    "    G1_shared_G0.remove_node(vertex)\n",
    "\n",
    "\n",
    "print(G1.number_of_nodes())\n",
    "print(G1_shared_G0.number_of_nodes())"
   ]
  },
  {
   "cell_type": "code",
   "execution_count": null,
   "metadata": {},
   "outputs": [],
   "source": []
  },
  {
   "cell_type": "code",
   "execution_count": null,
   "metadata": {},
   "outputs": [],
   "source": []
  },
  {
   "cell_type": "code",
   "execution_count": 179,
   "metadata": {},
   "outputs": [
    {
     "name": "stdout",
     "output_type": "stream",
     "text": [
      "0.751194298692145\n",
      "0.6296518607442978\n"
     ]
    },
    {
     "data": {
      "image/png": "[encoded data removed]",
      "text/plain": [
       "<Figure size 1296x720 with 2 Axes>"
      ]
     },
     "metadata": {
      "needs_background": "light"
     },
     "output_type": "display_data"
    },
    {
     "data": {
      "image/png": "[encoded data removed]",
      "text/plain": [
       "<Figure size 1296x720 with 2 Axes>"
      ]
     },
     "metadata": {
      "needs_background": "light"
     },
     "output_type": "display_data"
    }
   ],
   "source": [
    "\n",
    "G0 = G0_shared_G1\n",
    "G1 = G1_shared_G0\n",
    "\n",
    "Graph = copy.deepcopy(G0)\n",
    "louvain_G0 = community.best_partition(Graph, resolution=1, randomize=False)\n",
    "mod_G0 = community.modularity(louvain_G0, Graph)\n",
    "print(mod_G0)\n",
    "\n",
    "Graph = copy.deepcopy(G1)\n",
    "louvain_G1 = community.best_partition(Graph, resolution=1, randomize=False)\n",
    "mod_G1 = community.modularity(louvain_G1, Graph)\n",
    "print(mod_G1)\n",
    "\n",
    "\n",
    "\n",
    "G = G0\n",
    "tot_degree_sequence_G0 = [d for n, d in G.degree()]  # degree sequence\n",
    "\n",
    "G = G1\n",
    "tot_degree_sequence_G1 = [d for n, d in G.degree()]  # degree sequence\n",
    "\n",
    "\n",
    "\n",
    "\n",
    "\n",
    "G = G0\n",
    "\n",
    "degree_sequence = sorted([d for n, d in G.degree()], reverse=True)  # degree sequence\n",
    "# print \"Degree sequence\", degree_sequence\n",
    "degreeCount = collections.Counter(degree_sequence)\n",
    "deg, cnt = zip(*degreeCount.items())\n",
    "\n",
    "fig, ax = plt.subplots(figsize=(18,10))\n",
    "plt.bar(deg, cnt, width=0.80, color='b')\n",
    "\n",
    "plt.title(\"G108 of shared_vertices G109\")\n",
    "plt.ylabel(\"Count\")\n",
    "plt.xlabel(\"Degree\")\n",
    "ax.set_xticks([d + 0.4 for d in deg])\n",
    "ax.set_xticklabels(deg)\n",
    "\n",
    "# draw graph in inset\n",
    "plt.axes([0.4, 0.4, 0.5, 0.5])\n",
    "Gcc = sorted(nx.connected_component_subgraphs(G), key=len, reverse=True)[0]\n",
    "pos = nx.spring_layout(G)\n",
    "plt.axis('off')\n",
    "nx.draw_networkx_nodes(G, pos, node_size=20, node_color='black')\n",
    "nx.draw_networkx_edges(G, pos, alpha=0.4)\n",
    "\n",
    "plt.show()\n",
    "\n",
    "\n",
    "\n",
    "G = G1\n",
    "\n",
    "degree_sequence = sorted([d for n, d in G.degree()], reverse=True)  # degree sequence\n",
    "# print \"Degree sequence\", degree_sequence\n",
    "degreeCount = collections.Counter(degree_sequence)\n",
    "deg, cnt = zip(*degreeCount.items())\n",
    "\n",
    "fig, ax = plt.subplots(figsize=(18,10))\n",
    "plt.bar(deg, cnt, width=0.80, color='b')\n",
    "\n",
    "plt.title(\"G109 of shared_vertices G108\")\n",
    "plt.ylabel(\"Count\")\n",
    "plt.xlabel(\"Degree\")\n",
    "ax.set_xticks([d + 0.4 for d in deg])\n",
    "ax.set_xticklabels(deg)\n",
    "\n",
    "# draw graph in inset\n",
    "plt.axes([0.4, 0.4, 0.5, 0.5])\n",
    "Gcc = sorted(nx.connected_component_subgraphs(G), key=len, reverse=True)[0]\n",
    "pos = nx.spring_layout(G)\n",
    "plt.axis('off')\n",
    "nx.draw_networkx_nodes(G, pos, node_size=20)\n",
    "nx.draw_networkx_edges(G, pos, alpha=0.4)\n",
    "\n",
    "plt.show()"
   ]
  },
  {
   "cell_type": "code",
   "execution_count": null,
   "metadata": {},
   "outputs": [],
   "source": []
  },
  {
   "cell_type": "code",
   "execution_count": null,
   "metadata": {},
   "outputs": [],
   "source": []
  },
  {
   "cell_type": "code",
   "execution_count": null,
   "metadata": {},
   "outputs": [],
   "source": []
  },
  {
   "cell_type": "code",
   "execution_count": 78,
   "metadata": {},
   "outputs": [
    {
     "name": "stdout",
     "output_type": "stream",
     "text": [
      "[0.6730294672666571, 0.6730294672666571, 0.6730294672666571, 0.7034496191135734, 0.7034496191135734, 0.7290880740405411, 0.7290880740405411, 0.7669309325450148, 0.8029211371289844, 0.8224489795918369]\n",
      "[27, 20, 15, 14, 13, 12, 11, 10, 9, 8]\n"
     ]
    }
   ],
   "source": [
    "# #G_raw = G_109\n",
    "# graphs_modularity1 = []\n",
    "# graphs_maxdeg = []\n",
    "# max_deg_list = [27, 20, 15, 14, 13, 12, 11, 10, 9, 8]\n",
    "\n",
    "# G_trimmed_new = G1\n",
    "# for max_deg in max_deg_list:\n",
    "#     Gtrim_mod = degtrim_max(G_trimmed_new, max_deg)\n",
    "#     G_trimmed_new = Gtrim_mod.G\n",
    "#     graphs_maxdeg.append(max_deg)\n",
    "#     graphs_modularity1.append(Gtrim_mod.mod) \n",
    "\n",
    "# print (graphs_modularity1)\n",
    "# print (graphs_maxdeg)"
   ]
  },
  {
   "cell_type": "code",
   "execution_count": 80,
   "metadata": {},
   "outputs": [
    {
     "ename": "NameError",
     "evalue": "name 'degtrim_min' is not defined",
     "output_type": "error",
     "traceback": [
      "\u001b[0;31m----------------------------------------------------------------------\u001b[0m",
      "\u001b[0;31mNameError\u001b[0m                            Traceback (most recent call last)",
      "\u001b[0;32m<ipython-input-80-b64a0375bcd9>\u001b[0m in \u001b[0;36m<module>\u001b[0;34m\u001b[0m\n\u001b[1;32m      4\u001b[0m \u001b[0mG_trimmed_new\u001b[0m \u001b[0;34m=\u001b[0m \u001b[0mG1\u001b[0m\u001b[0;34m\u001b[0m\u001b[0m\n\u001b[1;32m      5\u001b[0m \u001b[0;32mfor\u001b[0m \u001b[0mmin_deg\u001b[0m \u001b[0;32min\u001b[0m \u001b[0mmin_deg_list\u001b[0m\u001b[0;34m:\u001b[0m\u001b[0;34m\u001b[0m\u001b[0m\n\u001b[0;32m----> 6\u001b[0;31m     \u001b[0mGtrim_mod\u001b[0m \u001b[0;34m=\u001b[0m \u001b[0mdegtrim_min\u001b[0m\u001b[0;34m(\u001b[0m\u001b[0mG_trimmed_new\u001b[0m\u001b[0;34m,\u001b[0m \u001b[0mmin_deg\u001b[0m\u001b[0;34m)\u001b[0m\u001b[0;34m\u001b[0m\u001b[0m\n\u001b[0m\u001b[1;32m      7\u001b[0m     \u001b[0mG_trimmed_new\u001b[0m \u001b[0;34m=\u001b[0m \u001b[0mGtrim_mod\u001b[0m\u001b[0;34m.\u001b[0m\u001b[0mG\u001b[0m\u001b[0;34m\u001b[0m\u001b[0m\n\u001b[1;32m      8\u001b[0m     \u001b[0mgraphs_mindeg\u001b[0m\u001b[0;34m.\u001b[0m\u001b[0mappend\u001b[0m\u001b[0;34m(\u001b[0m\u001b[0mmin_deg\u001b[0m\u001b[0;34m)\u001b[0m\u001b[0;34m\u001b[0m\u001b[0m\n",
      "\u001b[0;31mNameError\u001b[0m: name 'degtrim_min' is not defined"
     ]
    }
   ],
   "source": [
    "# graphs_modularity2 = []\n",
    "# graphs_mindeg = []\n",
    "# min_deg_list = [1, 2, 3, 4, 5]\n",
    "# G_trimmed_new = G1\n",
    "# for min_deg in min_deg_list:\n",
    "#     Gtrim_mod = degtrim_min(G_trimmed_new, min_deg)\n",
    "#     G_trimmed_new = Gtrim_mod.G\n",
    "#     graphs_mindeg.append(min_deg)\n",
    "#     graphs_modularity2.append(Gtrim_mod.mod) \n",
    "\n",
    "# print (graphs_modularity2)\n",
    "# print (graphs_mindeg)"
   ]
  },
  {
   "cell_type": "code",
   "execution_count": 95,
   "metadata": {},
   "outputs": [
    {
     "name": "stdout",
     "output_type": "stream",
     "text": [
      "[0.822037037037037, 0.8510135650053344, 0.8737461419753088, 0.8856201171875, 0.8991669060614766, 0.8909438775510206, 0.9092203631185476]\n"
     ]
    },
    {
     "data": {
      "text/plain": [
       "[Text(0, 0, '4'),\n",
       " Text(0, 0, '3'),\n",
       " Text(0, 0, '2'),\n",
       " Text(0, 0, '1'),\n",
       " Text(0, 0, '0')]"
      ]
     },
     "execution_count": 95,
     "metadata": {},
     "output_type": "execute_result"
    },
    {
     "data": {
      "image/png": "[encoded data removed]",
      "text/plain": [
       "<Figure size 432x288 with 1 Axes>"
      ]
     },
     "metadata": {
      "needs_background": "light"
     },
     "output_type": "display_data"
    }
   ],
   "source": [
    "# degtrim_minpercent\n",
    "# graphs_modularity3 = []\n",
    "\n",
    "# #percent_threshold = [0.01, 0.02, 0.05, 0.08, 0.1, 0.13, 0.16, 0.2, 0.25, 0.3, 0.35, 0.4] #this was for G0\n",
    "\n",
    "# percent_threshold = [0.01, 0.02, 0.05, 0.08, 0.1, 0.13, 0.16] #, 0.17, 0.2, 0.25, 0.3] #, 0.35]#, 0.4] \n",
    "                     \n",
    "# G_trimmed_new = G1\n",
    "# for percent in percent_threshold :\n",
    "#     Gtrim_mod = degtrim_minmax(G_trimmed_new, percent)\n",
    "#     G_trimmed_new = Gtrim_mod.G\n",
    "#     graphs_modularity3.append(Gtrim_mod.mod) \n",
    "# G1_Trimmed = G_trimmed_new\n",
    "\n",
    "# print (graphs_modularity3)\n",
    "\n",
    "\n",
    "# degree_sequence = sorted([d for n, d in G1_Trimmed.degree()], reverse=True)  # degree sequence\n",
    "# # print \"Degree sequence\", degree_sequence\n",
    "# degreeCount = collections.Counter(degree_sequence)\n",
    "# deg, cnt = zip(*degreeCount.items())\n",
    "\n",
    "# fig, ax = plt.subplots()\n",
    "# plt.bar(deg, cnt, width=0.80, color='b')\n",
    "\n",
    "# plt.title(\"Degree Histogram after breakthrough\")\n",
    "# plt.ylabel(\"Count\")\n",
    "# plt.xlabel(\"Degree\")\n",
    "# ax.set_xticks([d + 0.4 for d in deg])\n",
    "# ax.set_xticklabels(deg)"
   ]
  },
  {
   "cell_type": "code",
   "execution_count": 401,
   "metadata": {},
   "outputs": [
    {
     "name": "stdout",
     "output_type": "stream",
     "text": [
      "[0.6267236426314277]\n",
      "[0.6811337868480726, 0.6886393229166667, 0.7463997886114414, 0.7475564813331197, 0.7680023804800635]\n",
      "73\n",
      "5\n"
     ]
    },
    {
     "data": {
      "image/png": "[encoded data removed]",
      "text/plain": [
       "<Figure size 432x288 with 1 Axes>"
      ]
     },
     "metadata": {
      "needs_background": "light"
     },
     "output_type": "display_data"
    }
   ],
   "source": [
    "\n",
    "graphs_modularity4 = []\n",
    "\n",
    "#percent_threshold = [0.01, 0.02, 0.05, 0.08, 0.1, 0.13, 0.16, 0.2, 0.25, 0.3, 0.35, 0.4] #this was for G0\n",
    "\n",
    "#percent_threshold = [0.01, 0.02, 0.05, 0.08, 0.1, 0.13, 0.16, 0.2, 0.3] #, 0.17, 0.2, 0.25, 0.3] #, 0.35]#, 0.4] \n",
    "                     \n",
    "percent_threshold = [0.01, 0.02, 0.05] #G109 \n",
    "percent_threshold2 = [0.01, 0.2, 0.03, 0.04] #G109\n",
    "\n",
    "\n",
    "# percent_threshold = [0.01] #G107\n",
    "# percent_threshold2 = [0.01, 0.2, 0.03, 0.04] #G107\n",
    "\n",
    "\n",
    "# percent_threshold = [0.01] #G106\n",
    "# percent_threshold2 = [0.01, 0.2, 0.03, 0.04, 0.05, 0.08, 0.1, 0.13, 0.16, 0.2, 0.3] #G106\n",
    "\n",
    "#G100_percent_threshold2 = [0.01, 0.02, 0.03, 0.04, 0.08, 0.1, 0.13, 0.16, 0.2, 0.3, 0.4] #G110\n",
    "\n",
    "                     \n",
    "percent_threshold = [0.01] #G110\n",
    "percent_threshold2 = [0.01, 0.02, 0.03, 0.04, 0.08, 0.1, 0.13, 0.16, 0.2, 0.3, 0.4] #G110\n",
    "#percent_threshold2 = [0.01, 0.02, 0.03, 0.04, 0.08, 0.16, 0.2, 0.3, 0.4] #G110\n",
    "\n",
    "percent_threshold2 = [0.01, 0.02, 0.03, 0.04, 0.08] #G110\n",
    "\n",
    "#percent_threshold2 = [0.04, 0.08, 0.16, 0.2, 0.3, 0.4] #G110\n",
    "\n",
    "G_trimmed_new = G1\n",
    "for percent in percent_threshold :\n",
    "    Gtrim_mod = degtrim_minpercent(G_trimmed_new, percent)\n",
    "    G_trimmed_new = Gtrim_mod.G\n",
    "    graphs_modularity4.append(Gtrim_mod.mod) \n",
    "G1_Trimmed_min = G_trimmed_new\n",
    "\n",
    "\n",
    "########\n",
    "#experience:\n",
    " #########\n",
    "    \n",
    "G1_Trimmed_min = G1    \n",
    "    \n",
    "    \n",
    "print (graphs_modularity4)\n",
    "\n",
    "graphs_modularity5 = []\n",
    "\n",
    "\n",
    "G_trimmed_new = G1_Trimmed_min\n",
    "for percent in percent_threshold2 :\n",
    "    Gtrim_mod = degtrim_maxpercent(G_trimmed_new, percent)\n",
    "    G_trimmed_new = Gtrim_mod.G\n",
    "    graphs_modularity5.append(Gtrim_mod.mod) \n",
    "G1_Trimmed = G_trimmed_new\n",
    "\n",
    "print (graphs_modularity5)\n",
    "\n",
    "\n",
    "degree_sequence = sorted([d for n, d in G1_Trimmed.degree()], reverse=True)  # degree sequence\n",
    "# print \"Degree sequence\", degree_sequence\n",
    "degreeCount = collections.Counter(degree_sequence)\n",
    "deg, cnt = zip(*degreeCount.items())\n",
    "\n",
    "fig, ax = plt.subplots()\n",
    "plt.bar(deg, cnt, width=0.80, color='b')\n",
    "\n",
    "plt.title(\"Degree Histogram after breakthrough\")\n",
    "plt.ylabel(\"Count\")\n",
    "plt.xlabel(\"Degree\")\n",
    "ax.set_xticks([d + 0.4 for d in deg])\n",
    "ax.set_xticklabels(deg)\n",
    "\n",
    "\n",
    "print(G1.number_of_nodes())\n",
    "\n",
    "print(G1.number_of_nodes() - G1_Trimmed.number_of_nodes())"
   ]
  },
  {
   "cell_type": "markdown",
   "metadata": {},
   "source": []
  },
  {
   "cell_type": "code",
   "execution_count": null,
   "metadata": {},
   "outputs": [],
   "source": [
    "\n"
   ]
  },
  {
   "cell_type": "code",
   "execution_count": 402,
   "metadata": {},
   "outputs": [],
   "source": [
    "\n",
    "# fig, ax = plt.subplots(figsize=(30,10))\n",
    "\n",
    "# plt.title(\"Gnoise_lcc\")\n",
    "\n",
    "# plt.subplot(1, 3, 1)\n",
    "# G0_lcc = lcc_BNU.extract_lcc(G0)\n",
    "# pos = nx.spring_layout(G0_lcc)\n",
    "# plt.axis('off')\n",
    "# nx.draw_networkx_nodes(G0_lcc, pos, node_size=20, node_color='blue')\n",
    "# nx.draw_networkx_edges(G0_lcc, pos, alpha=0.4)\n",
    "# nx.draw_networkx_labels(G0_lcc, pos)\n",
    "\n",
    "# plt.subplot(1, 3, 2)\n",
    "# G1_lcc = lcc_BNU.extract_lcc(G1)\n",
    "\n",
    "# pos = nx.spring_layout(G1_lcc)\n",
    "# plt.axis('off')\n",
    "# nx.draw_networkx_nodes(G1_lcc, pos, node_size=20, node_color='red')\n",
    "# nx.draw_networkx_edges(G1_lcc, pos, alpha=0.4)\n",
    "# nx.draw_networkx_labels(G1_lcc, pos)\n",
    "\n",
    "# plt.subplot(1, 3, 3)\n",
    "\n",
    "# G1_Trimmed_lcc = lcc_BNU.extract_lcc(G1_Trimmed)\n",
    "# pos = nx.spring_layout(G1_Trimmed_lcc)\n",
    "# plt.axis('off')\n",
    "# nx.draw_networkx_nodes(G1_Trimmed_lcc, pos, node_size=20, node_color = 'green',  with_labels = True)\n",
    "# nx.draw_networkx_edges(G1_Trimmed_lcc, pos, alpha=0.4)\n",
    "# nx.draw_networkx_labels(G1_Trimmed_lcc, pos)\n",
    "\n",
    "# plt.show()"
   ]
  },
  {
   "cell_type": "code",
   "execution_count": 403,
   "metadata": {},
   "outputs": [
    {
     "name": "stdout",
     "output_type": "stream",
     "text": [
      "{'33', '169', '27', '153', '146'}\n",
      "73\n",
      "68\n"
     ]
    }
   ],
   "source": [
    "max_dim_ase = 2\n",
    "\n",
    "ase_G0 = ase_graph(G0)\n",
    "ase_G1 = ase_graph(G1)\n",
    "ase_G1_Trimmed = ase_graph(G1_Trimmed)\n",
    "\n",
    "\n",
    "\n",
    "\n",
    "\n",
    "print(set(G1.nodes()) - set(G1_Trimmed.nodes()))\n",
    "#note here trimming only trimmed nodes that were common in both G0 and G1\n",
    "#remember to do procrustes!!!!! \n",
    "\n",
    "intersecting_G0_noise =   set(G0.nodes()).intersection(set(G1.nodes()))\n",
    "intersecting_all3 =   list(set(intersecting_G0_noise).intersection(set(G1_Trimmed.nodes())))\n",
    "\n",
    "print(len(intersecting_G0_noise))\n",
    "print(len(intersecting_all3))"
   ]
  },
  {
   "cell_type": "code",
   "execution_count": 404,
   "metadata": {},
   "outputs": [],
   "source": [
    "intersecting_index = []\n",
    "for v in intersecting_all3:\n",
    "    intersecting_index.append(ase_G0.vertex_labels.index(v))\n",
    "XhatG0_shared = ase_G0.Xhat[intersecting_index]\n",
    "\n",
    "intersecting_index = []\n",
    "for v in intersecting_all3:\n",
    "    intersecting_index.append(ase_G1.vertex_labels.index(v))\n",
    "XhatG1_shared = ase_G1.Xhat[intersecting_index]\n",
    "\n",
    "intersecting_index = []\n",
    "for v in intersecting_all3:\n",
    "    intersecting_index.append(ase_G1_Trimmed.vertex_labels.index(v))\n",
    "XhatG1_Trimmed_shared = ase_G1_Trimmed.Xhat[intersecting_index]"
   ]
  },
  {
   "cell_type": "code",
   "execution_count": 405,
   "metadata": {},
   "outputs": [],
   "source": [
    "#procrustes\n",
    "W_G1_G0 = procrustes(XhatG1_shared, XhatG0_shared)\n",
    "XhatG1_shared_proj = XhatG1_shared@W_G1_G0 \n",
    "\n",
    "\n",
    "W_G1_Trimmed_G0 = procrustes(XhatG1_Trimmed_shared, XhatG0_shared)\n",
    "XhatG1_Trimmed_shared_proj = XhatG1_Trimmed_shared@W_G1_Trimmed_G0 \n"
   ]
  },
  {
   "cell_type": "code",
   "execution_count": 406,
   "metadata": {},
   "outputs": [
    {
     "data": {
      "text/plain": [
       "[<matplotlib.lines.Line2D at 0x1197dea90>]"
      ]
     },
     "execution_count": 406,
     "metadata": {},
     "output_type": "execute_result"
    },
    {
     "data": {
      "image/png": "[encoded data removed]",
      "text/plain": [
       "<Figure size 432x288 with 1 Axes>"
      ]
     },
     "metadata": {
      "needs_background": "light"
     },
     "output_type": "display_data"
    }
   ],
   "source": [
    "Xhat_G0_G1 = XhatG0_shared - XhatG1_shared_proj \n",
    "diff_G0_G1 = np.linalg.norm(Xhat_G0_G1, axis=1)\n",
    "Xhat_G0_G1 = XhatG0_shared - XhatG1_shared_proj \n",
    "\n",
    "\n",
    "plt.plot(XhatG0_shared[:,0], XhatG0_shared[:,1], 'bo')\n",
    "plt.plot(XhatG1_shared_proj [:,0], XhatG1_shared_proj [:,1], 'ro')\n",
    "plt.plot(XhatG1_Trimmed_shared_proj [:,0], XhatG1_Trimmed_shared_proj [:,1], 'go')"
   ]
  },
  {
   "cell_type": "code",
   "execution_count": 407,
   "metadata": {},
   "outputs": [
    {
     "data": {
      "image/png": "[encoded data removed]",
      "text/plain": [
       "<Figure size 800x800 with 1 Axes>"
      ]
     },
     "metadata": {
      "needs_background": "light"
     },
     "output_type": "display_data"
    },
    {
     "data": {
      "text/plain": [
       "[<matplotlib.lines.Line2D at 0x119515e80>]"
      ]
     },
     "execution_count": 407,
     "metadata": {},
     "output_type": "execute_result"
    },
    {
     "data": {
      "image/png": "[encoded data removed]",
      "text/plain": [
       "<Figure size 432x288 with 1 Axes>"
      ]
     },
     "metadata": {
      "needs_background": "light"
     },
     "output_type": "display_data"
    }
   ],
   "source": [
    "Xhat_G0_G1_Trimmed = XhatG0_shared - XhatG1_Trimmed_shared_proj \n",
    "diff_G0_G1_Trimmed = np.linalg.norm(Xhat_G0_G1_Trimmed, axis=1)\n",
    "#diff_G0_G1_Trimmed\n",
    "a = np.array(diff_G0_G1)\n",
    "b = np.array(diff_G0_G1_Trimmed)\n",
    "m = np.vstack((a,b))\n",
    "#m1 = np.asmatrix(m)\n",
    "plt.figure(figsize=(10, 10), dpi=80)\n",
    "plt.imshow(m, cmap='hot', interpolation='nearest')\n",
    "plt.show()\n",
    "#black means small number\n",
    "\n",
    "\n",
    "# In[46]:\n",
    "\n",
    "\n",
    "rank_trim = []\n",
    "rank_noise = []\n",
    "\n",
    "idx = 1 \n",
    "\n",
    "for idx in range(XhatG0_shared.shape[0]):\n",
    "    distance_to_noisy = XhatG1_shared_proj - XhatG0_shared[idx,]\n",
    "    diff_G1_G0v = np.linalg.norm(distance_to_noisy, axis=1)\n",
    "    distance_to_trim = XhatG1_Trimmed_shared_proj - XhatG0_shared[idx,]\n",
    "    diff_G1_Trimmed_G0v = np.linalg.norm(distance_to_trim, axis=1)\n",
    "    rank_trim.append(diff_G1_Trimmed_G0v.argsort()[0]) \n",
    "    rank_noise.append(diff_G1_G0v.argsort()[0])\n",
    "\n",
    "\n",
    "delta_rank = np.array(rank_noise) - np.array(rank_trim)\n",
    "\n",
    "\n",
    "# In[47]:\n",
    "\n",
    "\n",
    "plt.plot(np.array(rank_noise), 'ro')\n",
    "plt.plot(np.array(rank_trim), 'go')\n",
    "\n",
    "\n",
    "# In[292]:"
   ]
  },
  {
   "cell_type": "code",
   "execution_count": 408,
   "metadata": {},
   "outputs": [],
   "source": [
    "delta_rank_sign = delta_rank\n",
    "delta_rank_sign[delta_rank_sign < 0] = 0\n",
    "delta_rank_sign[delta_rank_sign > 0] = 1\n",
    "#binom.test(sum(delta_rank_sign), length(delta_rank_sign))\n",
    "#=0.01 "
   ]
  },
  {
   "cell_type": "code",
   "execution_count": 409,
   "metadata": {},
   "outputs": [
    {
     "data": {
      "text/plain": [
       "array([1, 1, 1, 0, 1, 1, 1, 1, 1, 1, 1, 1, 0, 1, 1, 1, 1, 0, 1, 1, 1, 0,\n",
       "       1, 0, 1, 0, 0, 1, 0, 1, 1, 1, 1, 1, 1, 0, 1, 1, 0, 1, 0, 0, 0, 1,\n",
       "       1, 1, 0, 1, 0, 0, 0, 1, 0, 0, 0, 1, 0, 0, 1, 0, 0, 1, 0, 1, 0, 1,\n",
       "       1, 1])"
      ]
     },
     "execution_count": 409,
     "metadata": {},
     "output_type": "execute_result"
    }
   ],
   "source": [
    "delta_rank_sign "
   ]
  },
  {
   "cell_type": "code",
   "execution_count": 410,
   "metadata": {},
   "outputs": [
    {
     "name": "stdout",
     "output_type": "stream",
     "text": [
      "68\n"
     ]
    },
    {
     "data": {
      "text/plain": [
       "0.03405933714204983"
      ]
     },
     "execution_count": 410,
     "metadata": {},
     "output_type": "execute_result"
    }
   ],
   "source": [
    "print(len(delta_rank_sign ))\n",
    "binom_test(sum(delta_rank_sign), len(delta_rank_sign), p=0.5, alternative='greater') "
   ]
  },
  {
   "cell_type": "code",
   "execution_count": 411,
   "metadata": {},
   "outputs": [],
   "source": [
    "#G109, 108:2.6343376590645844e-06\n",
    "#percent_threshold = [0.01, 0.02, 0.05] #G109 \n",
    "#percent_threshold2 = [0.01, 0.2, 0.03, 0.04] #G109\n",
    "\n",
    "#binom_test(sum(delta_rank_sign), len(delta_rank_sign), p=0.5, alternative='greater') #:0.98"
   ]
  },
  {
   "cell_type": "code",
   "execution_count": 242,
   "metadata": {},
   "outputs": [],
   "source": [
    "\n",
    "#G107, 108: 0.0163828\n",
    "#percent_threshold = [0.01] #G107\n",
    "#percent_threshold2 = [0.01, 0.2, 0.03, 0.04] #G107\n",
    "#"
   ]
  },
  {
   "cell_type": "code",
   "execution_count": null,
   "metadata": {},
   "outputs": [],
   "source": [
    "#G106, 108: 0.0337\n",
    "#percent_threshold = [0.01] #G106\n",
    "#percent_threshold2 = [0.01, 0.2, 0.03, 0.04, 0.05, 0.08, 0.1, 0.13, 0.16, 0.2, 0.3] #G106"
   ]
  },
  {
   "cell_type": "code",
   "execution_count": null,
   "metadata": {},
   "outputs": [],
   "source": [
    "#G110, 108: 0.049\n",
    "                     \n",
    "#percent_threshold = [0.01] #G110\n",
    "#percent_threshold2 = [0.01, 0.2, 0.03, 0.04, 0.08, 0.1, 0.13, 0.16, 0.2, 0.3] #G110\n"
   ]
  }
 ],
 "metadata": {
  "kernelspec": {
   "display_name": "Python 3",
   "language": "python",
   "name": "python3"
  },
  "language_info": {
   "codemirror_mode": {
    "name": "ipython",
    "version": 3
   },
   "file_extension": ".py",
   "mimetype": "text/x-python",
   "name": "python",
   "nbconvert_exporter": "python",
   "pygments_lexer": "ipython3",
   "version": "3.6.5"
  }
 },
 "nbformat": 4,
 "nbformat_minor": 2
}
