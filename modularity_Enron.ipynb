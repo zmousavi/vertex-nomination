{
 "cells": [
  {
   "cell_type": "code",
   "execution_count": 1,
   "metadata": {},
   "outputs": [],
   "source": [
    "import networkx as nx\n",
    "import community\n",
    "from community import community_louvain\n",
    "import numpy as np\n",
    "import copy  \n",
    "import matplotlib.pyplot as plt\n",
    "import collections"
   ]
  },
  {
   "cell_type": "code",
   "execution_count": 2,
   "metadata": {},
   "outputs": [],
   "source": [
    "file_108 = r'/Users/z/Desktop/execs_email_t108.txt'\n",
    "file_109 = r'/Users/z/Desktop/execs_email_t109.txt'\n"
   ]
  },
  {
   "cell_type": "code",
   "execution_count": 17,
   "metadata": {},
   "outputs": [],
   "source": [
    "G_108 = nx.read_weighted_edgelist(file_108, comments='#', delimiter=' ', create_using=None, nodetype=str,  encoding='utf-8')\n",
    "G_109 = nx.read_weighted_edgelist(file_109, comments='#', delimiter=' ', create_using=None, nodetype=str,  encoding='utf-8')\n"
   ]
  },
  {
   "cell_type": "code",
   "execution_count": 1,
   "metadata": {},
   "outputs": [
    {
     "ename": "NameError",
     "evalue": "name 'G_108' is not defined",
     "output_type": "error",
     "traceback": [
      "\u001b[0;31m---------------------------------------------------------------------------\u001b[0m",
      "\u001b[0;31mNameError\u001b[0m                                 Traceback (most recent call last)",
      "\u001b[0;32m<ipython-input-1-03b5a32d2725>\u001b[0m in \u001b[0;36m<module>\u001b[0;34m\u001b[0m\n\u001b[0;32m----> 1\u001b[0;31m \u001b[0mprint\u001b[0m\u001b[0;34m(\u001b[0m\u001b[0mG_108\u001b[0m\u001b[0;34m.\u001b[0m\u001b[0msize\u001b[0m\u001b[0;34m(\u001b[0m\u001b[0;34m)\u001b[0m\u001b[0;34m)\u001b[0m\u001b[0;34m\u001b[0m\u001b[0m\n\u001b[0m\u001b[1;32m      2\u001b[0m \u001b[0mprint\u001b[0m\u001b[0;34m(\u001b[0m\u001b[0mG_108\u001b[0m\u001b[0;34m.\u001b[0m\u001b[0mnumber_of_nodes\u001b[0m\u001b[0;34m(\u001b[0m\u001b[0;34m)\u001b[0m\u001b[0;34m)\u001b[0m\u001b[0;34m\u001b[0m\u001b[0m\n\u001b[1;32m      3\u001b[0m \u001b[0mprint\u001b[0m\u001b[0;34m(\u001b[0m\u001b[0mG_109\u001b[0m\u001b[0;34m.\u001b[0m\u001b[0msize\u001b[0m\u001b[0;34m(\u001b[0m\u001b[0;34m)\u001b[0m\u001b[0;34m)\u001b[0m\u001b[0;34m\u001b[0m\u001b[0m\n\u001b[1;32m      4\u001b[0m \u001b[0mprint\u001b[0m\u001b[0;34m(\u001b[0m\u001b[0mG_109\u001b[0m\u001b[0;34m.\u001b[0m\u001b[0mnumber_of_nodes\u001b[0m\u001b[0;34m(\u001b[0m\u001b[0;34m)\u001b[0m\u001b[0;34m)\u001b[0m\u001b[0;34m\u001b[0m\u001b[0m\n",
      "\u001b[0;31mNameError\u001b[0m: name 'G_108' is not defined"
     ]
    }
   ],
   "source": [
    "print(G_108.size())\n",
    "print(G_108.number_of_nodes())\n",
    "print(G_109.size())\n",
    "print(G_109.number_of_nodes())"
   ]
  },
  {
   "cell_type": "code",
   "execution_count": 16,
   "metadata": {},
   "outputs": [],
   "source": [
    "G = G_108\n",
    "tot_degree_sequence_108 = [d for n, d in G.degree()]  # degree sequence\n",
    "\n",
    "G = G_109\n",
    "tot_degree_sequence_109 = [d for n, d in G.degree()]  # degree sequence\n"
   ]
  },
  {
   "cell_type": "code",
   "execution_count": 36,
   "metadata": {},
   "outputs": [
    {
     "data": {
      "text/plain": [
       "(0, 60)"
      ]
     },
     "execution_count": 36,
     "metadata": {},
     "output_type": "execute_result"
    },
    {
     "data": {
      "text/plain": [
       "<Figure size 432x288 with 0 Axes>"
      ]
     },
     "metadata": {},
     "output_type": "display_data"
    },
    {
     "data": {
      "image/png": "[encoded data removed]",
      "text/plain": [
       "<Figure size 480x320 with 2 Axes>"
      ]
     },
     "metadata": {
      "needs_background": "light"
     },
     "output_type": "display_data"
    }
   ],
   "source": [
    "fig = plt.figure()\n",
    "#fig.tight_layout()\n",
    "plt.figure(figsize=(6, 4), dpi=80)\n",
    "\n",
    "left  = 0.125  # the left side of the subplots of the figure\n",
    "right = 0.9    # the right side of the subplots of the figure\n",
    "bottom = 0.1   # the bottom of the subplots of the figure\n",
    "top = 0.9      # the top of the subplots of the figure\n",
    "wspace = 1   # the amount of width reserved for blank space between subplots\n",
    "hspace = 1   # the amount of height reserved for white space between subplots\n",
    "plt.subplots_adjust(left=left, bottom=bottom, right=right, top=top, wspace=wspace, hspace=hspace)\n",
    "\n",
    "\n",
    "\n",
    "plt.subplot(1, 2, 1)\n",
    "plt.hist(tot_degree_sequence_108, width=0.80, color='b')\n",
    "plt.title(\"Tot-degree G_108\")\n",
    "plt.ylabel(\"Count\")\n",
    "#plt.xlabel(\"Out Degree\")\n",
    "plt.ylim(0, 60)\n",
    "\n",
    "plt.subplot(1, 2, 2)\n",
    "plt.hist(tot_degree_sequence_109, width=0.80, color='b')\n",
    "plt.title(\"Tot-degree G_109\")\n",
    "plt.ylabel(\"Count\")\n",
    "#plt.xlabel(\"In Degree\")\n",
    "plt.ylim(0, 60)"
   ]
  },
  {
   "cell_type": "code",
   "execution_count": 20,
   "metadata": {},
   "outputs": [],
   "source": [
    "def degtrim_max(G, max_threshold):\n",
    "    tmpG = copy.deepcopy(G)\n",
    "\n",
    "    for vertex in G.nodes():\n",
    "        if G.degree[vertex] >= max_threshold:\n",
    "            tmpG.remove_node(vertex)\n",
    "\n",
    "    Graph = copy.deepcopy(tmpG)\n",
    "    louvain = community.best_partition(Graph, resolution=1, randomize=False)\n",
    "    mod = community.modularity(louvain, Graph)\n",
    "\n",
    "    embedded = collections.namedtuple('embedded', 'G mod')\n",
    "    result = embedded(G = Graph, mod = mod)\n",
    "\n",
    "    return result\n",
    "\n",
    "def degtrim_min(G, min_threshold):\n",
    "    tmpG = copy.deepcopy(G)\n",
    "\n",
    "    for vertex in G.nodes():\n",
    "        if G.degree[vertex] <= min_threshold:\n",
    "            tmpG.remove_node(vertex)\n",
    "\n",
    "    Graph = copy.deepcopy(tmpG)\n",
    "    louvain = community.best_partition(Graph, resolution=1, randomize=False)\n",
    "    mod = community.modularity(louvain, Graph)\n",
    "\n",
    "    embedded = collections.namedtuple('embedded', 'G mod')\n",
    "    result = embedded(G = Graph, mod = mod)\n",
    "\n",
    "    return result"
   ]
  },
  {
   "cell_type": "code",
   "execution_count": 75,
   "metadata": {},
   "outputs": [
    {
     "name": "stdout",
     "output_type": "stream",
     "text": [
      "0.7797091262975778\n"
     ]
    }
   ],
   "source": [
    "\n",
    "Graph = copy.deepcopy(G_108)\n",
    "louvain_108 = community.best_partition(Graph, resolution=1, randomize=False)\n",
    "mod_108 = community.modularity(louvain_108, Graph)\n",
    "print(mod_108)\n",
    "\n",
    "\n"
   ]
  },
  {
   "cell_type": "code",
   "execution_count": 76,
   "metadata": {},
   "outputs": [
    {
     "name": "stdout",
     "output_type": "stream",
     "text": [
      "0.6730294672666571\n"
     ]
    }
   ],
   "source": [
    "Graph = copy.deepcopy(G_109)\n",
    "louvain_109 = community.best_partition(Graph, resolution=1, randomize=False)\n",
    "mod_109 = community.modularity(louvain_109, Graph)\n",
    "print(mod_109)"
   ]
  },
  {
   "cell_type": "code",
   "execution_count": 74,
   "metadata": {},
   "outputs": [
    {
     "name": "stdout",
     "output_type": "stream",
     "text": [
      "[0.6730294672666571, 0.6730294672666571, 0.7034496191135734, 0.7034496191135734, 0.7290880740405411, 0.7290880740405411, 0.7669309325450148, 0.8029211371289844]\n",
      "[20, 15, 14, 13, 12, 11, 10, 9]\n"
     ]
    }
   ],
   "source": [
    "#G_raw = G_109\n",
    "graphs_modularity1 = []\n",
    "graphs_maxdeg = []\n",
    "max_deg_list = [20, 15, 14, 13, 12, 11, 10, 9]\n",
    "\n",
    "G_trimmed_new = G_109\n",
    "for max_deg in max_deg_list:\n",
    "    Gtrim_mod = degtrim_max(G_trimmed_new, max_deg)\n",
    "    G_trimmed_new = Gtrim_mod.G\n",
    "    graphs_maxdeg.append(max_deg)\n",
    "    graphs_modularity1.append(Gtrim_mod.mod) \n",
    "\n",
    "print (graphs_modularity1)\n",
    "print (graphs_maxdeg)"
   ]
  },
  {
   "cell_type": "code",
   "execution_count": null,
   "metadata": {},
   "outputs": [],
   "source": []
  },
  {
   "cell_type": "code",
   "execution_count": 51,
   "metadata": {},
   "outputs": [
    {
     "name": "stdout",
     "output_type": "stream",
     "text": [
      "[0.5950363559882219, 0.525326797385621, 0.46474358974358976, 0.30898668639053256, 0.12326869806094183]\n",
      "[1, 2, 3, 4, 5]\n"
     ]
    }
   ],
   "source": [
    "graphs_modularity2 = []\n",
    "graphs_mindeg = []\n",
    "min_deg_list = [1, 2, 3, 4, 5]\n",
    "G_trimmed_new = G_109\n",
    "for min_deg in min_deg_list:\n",
    "    Gtrim_mod = degtrim_min(G_trimmed_new, min_deg)\n",
    "    G_trimmed_new = Gtrim_mod.G\n",
    "    graphs_mindeg.append(min_deg)\n",
    "    graphs_modularity2.append(Gtrim_mod.mod) \n",
    "\n",
    "print (graphs_modularity2)\n",
    "print (graphs_mindeg)"
   ]
  },
  {
   "cell_type": "code",
   "execution_count": 40,
   "metadata": {},
   "outputs": [],
   "source": [
    "def degcentralitytrim_max(G, max_threshold):\n",
    "    tmpG = copy.deepcopy(G)\n",
    "    degree_centrality_dict = nx.degree_centrality(G)\n",
    "    for vertex in degree_centrality_dict:\n",
    "        if degree_centrality_dict[vertex] >= max_threshold:\n",
    "            tmpG.remove_node(vertex)\n",
    "\n",
    "    Graph = copy.deepcopy(tmpG)\n",
    "    louvain = community.best_partition(Graph, resolution=1, randomize=False)\n",
    "    mod = community.modularity(louvain, Graph)\n",
    "\n",
    "    embedded = collections.namedtuple('embedded', 'G mod')\n",
    "    result = embedded(G = Graph, mod = mod)\n",
    "\n",
    "    return result\n",
    "\n",
    "def degcentralitytrim_min(G, min_threshold):\n",
    "    tmpG = copy.deepcopy(G)\n",
    "    degree_centrality_dict = nx.degree_centrality(G)\n",
    "    for vertex in degree_centrality_dict:\n",
    "        if degree_centrality_dict[vertex] <= min_threshold:\n",
    "            tmpG.remove_node(vertex)\n",
    "\n",
    "    Graph = copy.deepcopy(tmpG)\n",
    "    louvain = community.best_partition(Graph, resolution=1, randomize=False)\n",
    "    mod = community.modularity(louvain, Graph)\n",
    "\n",
    "    embedded = collections.namedtuple('embedded', 'G mod')\n",
    "    result = embedded(G = Graph, mod = mod)\n",
    "\n",
    "    return result"
   ]
  },
  {
   "cell_type": "code",
   "execution_count": 41,
   "metadata": {},
   "outputs": [
    {
     "data": {
      "image/png": "[encoded data removed]",
      "text/plain": [
       "<Figure size 432x288 with 1 Axes>"
      ]
     },
     "metadata": {
      "needs_background": "light"
     },
     "output_type": "display_data"
    }
   ],
   "source": [
    "deg_centrality_dict = nx.degree_centrality(G_raw)\n",
    "\n",
    "degree_centrality_list = []\n",
    "for vertex in deg_centrality_dict:\n",
    "    degree_centrality_list.append(deg_centrality_dict[vertex])\n",
    "\n",
    "\n",
    "\n",
    "plt.hist(degree_centrality_list)\n",
    "plt.show()"
   ]
  },
  {
   "cell_type": "code",
   "execution_count": 49,
   "metadata": {},
   "outputs": [
    {
     "name": "stdout",
     "output_type": "stream",
     "text": [
      "[0.7034496191135734, 0.7290880740405411, 0.7669309325450148, 0.8427217825905874, 0.9073777777777778, 0.9130752373995615]\n",
      "[0.14, 0.12, 0.1, 0.08, 0.06, 0.04]\n"
     ]
    }
   ],
   "source": [
    "graphs_modularity3 = []\n",
    "graphs_maxdegcentrality = []\n",
    "max_degcentrality_list = [0.14, 0.12, 0.10, 0.08, 0.06, 0.04]\n",
    "\n",
    "G_trimmed_new = G_109\n",
    "for max_degcentrality in max_degcentrality_list:\n",
    "    Gtrim_mod = degcentralitytrim_max(G_trimmed_new, max_degcentrality)\n",
    "    G_trimmed_new = Gtrim_mod.G\n",
    "    graphs_maxdegcentrality.append(max_degcentrality)\n",
    "    graphs_modularity3.append(Gtrim_mod.mod) \n",
    "\n",
    "print (graphs_modularity3)\n",
    "print (graphs_maxdegcentrality)"
   ]
  },
  {
   "cell_type": "code",
   "execution_count": 50,
   "metadata": {},
   "outputs": [
    {
     "name": "stdout",
     "output_type": "stream",
     "text": [
      "[0.6730294672666571, 0.6730294672666571, 0.5950363559882219, 0.5827034517510706, 0.52595, 0.5214263850627487]\n",
      "[0.008, 0.01, 0.02, 0.03, 0.04, 0.05]\n"
     ]
    }
   ],
   "source": [
    "graphs_modularity4 = []\n",
    "graphs_mindegcentarlity = []\n",
    "min_degcentrality_list = [0.008, 0.01, 0.02, 0.03, 0.04, 0.05]\n",
    "G_trimmed_new = G_109\n",
    "for min_degcentrality in min_degcentrality_list:\n",
    "    Gtrim_mod = degcentralitytrim_min(G_trimmed_new, min_degcentrality)\n",
    "    G_trimmed_new = Gtrim_mod.G\n",
    "    graphs_mindegcentarlity.append(min_degcentrality)\n",
    "    graphs_modularity4.append(Gtrim_mod.mod) \n",
    "\n",
    "print (graphs_modularity4)\n",
    "print (graphs_mindegcentarlity)"
   ]
  },
  {
   "cell_type": "code",
   "execution_count": 48,
   "metadata": {},
   "outputs": [],
   "source": [
    "def btwncentralitytrim_max(G, max_threshold):\n",
    "    tmpG = copy.deepcopy(G)\n",
    "    btwn_centrality_dict = nx.betweenness_centrality(G)\n",
    "    for vertex in btwn_centrality_dict:\n",
    "        if btwn_centrality_dict[vertex] >= max_threshold:\n",
    "            tmpG.remove_node(vertex)\n",
    "\n",
    "    Graph = copy.deepcopy(tmpG)\n",
    "    louvain = community.best_partition(Graph, resolution=1, randomize=False)\n",
    "    mod = community.modularity(louvain, Graph)\n",
    "\n",
    "    embedded = collections.namedtuple('embedded', 'G mod')\n",
    "    result = embedded(G = Graph, mod = mod)\n",
    "\n",
    "    return result\n",
    "\n",
    "def btwncentralitytrim_min(G, min_threshold):\n",
    "    tmpG = copy.deepcopy(G)\n",
    "    btwn_centrality_dict = nx.betweenness_centrality(G)\n",
    "    for vertex in btwn_centrality_dict:\n",
    "        if btwn_centrality_dict[vertex] <= min_threshold:\n",
    "            tmpG.remove_node(vertex)\n",
    "\n",
    "    Graph = copy.deepcopy(tmpG)\n",
    "    louvain = community.best_partition(Graph, resolution=1, randomize=False)\n",
    "    mod = community.modularity(louvain, Graph)\n",
    "\n",
    "    embedded = collections.namedtuple('embedded', 'G mod')\n",
    "    result = embedded(G = Graph, mod = mod)\n",
    "\n",
    "    return result"
   ]
  },
  {
   "cell_type": "code",
   "execution_count": 52,
   "metadata": {},
   "outputs": [
    {
     "data": {
      "image/png": "[encoded data removed]",
      "text/plain": [
       "<Figure size 432x288 with 1 Axes>"
      ]
     },
     "metadata": {
      "needs_background": "light"
     },
     "output_type": "display_data"
    }
   ],
   "source": [
    "btwn_centrality_dict = nx.betweenness_centrality(G_109)\n",
    "\n",
    "btwn_centrality_list = []\n",
    "for vertex in btwn_centrality_dict:\n",
    "    btwn_centrality_list.append(btwn_centrality_dict[vertex])\n",
    "\n",
    "\n",
    "\n",
    "plt.hist(btwn_centrality_list)\n",
    "plt.show()"
   ]
  },
  {
   "cell_type": "code",
   "execution_count": 63,
   "metadata": {
    "scrolled": false
   },
   "outputs": [
    {
     "name": "stdout",
     "output_type": "stream",
     "text": [
      "[0.6730294672666571, 0.7290880740405411, 0.7367455621301775, 0.7641427035743079, 0.7641427035743079, 0.7641427035743079, 0.7641427035743079]\n",
      "[0.2, 0.18, 0.15, 0.08, 0.07, 0.06, 0.05]\n"
     ]
    }
   ],
   "source": [
    "graphs_modularity5 = []\n",
    "graphs_maxbtwncentrality = []\n",
    "max_btwncentrality_list = [0.2, 0.18, 0.15, 0.08, 0.07, 0.06, 0.05]\n",
    "\n",
    "G_trimmed_new = G_109\n",
    "for max_btwncentrality in max_btwncentrality_list:\n",
    "    Gtrim_mod = btwncentralitytrim_max(G_trimmed_new, max_btwncentrality)\n",
    "    G_trimmed_new = Gtrim_mod.G\n",
    "    graphs_maxbtwncentrality.append(max_btwncentrality)\n",
    "    graphs_modularity5.append(Gtrim_mod.mod) \n",
    "\n",
    "print (graphs_modularity5)\n",
    "print (graphs_maxbtwncentrality)"
   ]
  },
  {
   "cell_type": "code",
   "execution_count": 64,
   "metadata": {},
   "outputs": [
    {
     "name": "stdout",
     "output_type": "stream",
     "text": [
      "[0.6549167533818937, 0.5978125, 0.5618512110726643, 0.5449999999999999, 0.5392390011890607]\n",
      "[0.001, 0.0015, 0.002, 0.003, 0.004]\n"
     ]
    }
   ],
   "source": [
    "graphs_modularity6 = []\n",
    "graphs_minbtwncentrality = []\n",
    "min_btwncentrality_list = [0.001, 0.0015, 0.002, 0.003, 0.004]\n",
    "\n",
    "G_trimmed_new = G_raw\n",
    "for min_btwncentrality in min_btwncentrality_list:\n",
    "    Gtrim_mod = btwncentralitytrim_min(G_trimmed_new, min_btwncentrality)\n",
    "    G_trimmed_new = Gtrim_mod.G\n",
    "    graphs_minbtwncentrality.append(min_btwncentrality)\n",
    "    graphs_modularity6.append(Gtrim_mod.mod) \n",
    "\n",
    "print (graphs_modularity6)\n",
    "print (graphs_minbtwncentrality)"
   ]
  },
  {
   "cell_type": "code",
   "execution_count": 69,
   "metadata": {},
   "outputs": [
    {
     "data": {
      "text/plain": [
       "<Figure size 432x288 with 0 Axes>"
      ]
     },
     "metadata": {},
     "output_type": "display_data"
    },
    {
     "data": {
      "image/png": "[encoded data removed]",
      "text/plain": [
       "<Figure size 960x800 with 6 Axes>"
      ]
     },
     "metadata": {
      "needs_background": "light"
     },
     "output_type": "display_data"
    }
   ],
   "source": [
    "fig = plt.figure()\n",
    "#fig.tight_layout()\n",
    "plt.figure(figsize=(12, 10), dpi=80)\n",
    "\n",
    "left  = 0.125  # the left side of the subplots of the figure\n",
    "right = 0.9    # the right side of the subplots of the figure\n",
    "bottom = 0.1   # the bottom of the subplots of the figure\n",
    "top = 0.9      # the top of the subplots of the figure\n",
    "wspace = 0.2   # the amount of width reserved for blank space between subplots\n",
    "hspace = 0.5   # the amount of height reserved for white space between subplots\n",
    "plt.subplots_adjust(left=left, bottom=bottom, right=right, top=top, wspace=wspace, hspace=hspace)\n",
    "\n",
    "\n",
    "plt.subplot(3, 2, 1)\n",
    "plt.plot(graphs_modularity1)\n",
    "plt.xticks(np.arange(len(graphs_mindeg)), graphs_mindeg)\n",
    "plt.ylabel('Q Score')\n",
    "plt.xlabel('Maximum Total-Degree Threshold')\n",
    "plt.grid(True)\n",
    "plt.ylim((0.20,1.00))\n",
    "\n",
    "plt.subplot(3, 2, 2)\n",
    "plt.plot(graphs_modularity2)\n",
    "plt.xticks(np.arange(len(graphs_maxdeg)), graphs_maxdeg)\n",
    "plt.ylabel('Q Score')\n",
    "plt.xlabel('Minimum Total-Degree Threshold')\n",
    "plt.grid(True)\n",
    "plt.ylim((0.20,1.00))\n",
    "\n",
    "\n",
    "plt.subplot(3, 2, 3)\n",
    "plt.plot(graphs_modularity3)\n",
    "plt.xticks(np.arange(len(graphs_maxdegcentrality)), graphs_maxdegcentrality, rotation=45)\n",
    "plt.ylabel('Q Score')\n",
    "plt.xlabel('Maximum Degree-Centrality Threshold')\n",
    "plt.grid(True)\n",
    "plt.ylim((0.20,1.00))\n",
    "\n",
    "plt.subplot(3, 2, 4)\n",
    "plt.plot(graphs_modularity4)\n",
    "plt.xticks(np.arange(len(graphs_mindegcentarlity)), graphs_mindegcentarlity, rotation=45)\n",
    "plt.ylabel('Q Score')\n",
    "plt.xlabel('Minimum Degree-Centrality Threshold')\n",
    "plt.grid(True)\n",
    "plt.ylim((0.20,1.00))\n",
    "\n",
    "plt.subplot(3, 2, 5)\n",
    "plt.plot(graphs_modularity5)\n",
    "plt.xticks(np.arange(len(graphs_maxbtwncentrality)), graphs_maxbtwncentrality)\n",
    "plt.ylabel('Q Score')\n",
    "plt.xlabel('Maximum Betweenness-Centrality Threshold')\n",
    "plt.grid(True)\n",
    "plt.ylim((0.20,1.00))\n",
    "\n",
    "plt.subplot(3, 2, 6)\n",
    "plt.plot(graphs_modularity6)\n",
    "plt.xticks(np.arange(len(graphs_minbtwncentrality)), graphs_minbtwncentrality)\n",
    "plt.ylabel('Q Score')\n",
    "plt.xlabel('Minimum Betweenness-Centrality Threshold')\n",
    "plt.grid(True)\n",
    "plt.ylim((0.20,1.00))\n",
    "\n",
    "\n",
    "plt.show()"
   ]
  },
  {
   "cell_type": "code",
   "execution_count": null,
   "metadata": {},
   "outputs": [],
   "source": [
    "def edgetrim_max(G, max_threshold):\n",
    "    tmpG = copy.deepcopy(G) \n",
    "    for edge in G.edges():\n",
    "        if G.edges[edge]['weight'] >= max_threshold:\n",
    "            tmpG.remove_edge(edge[0], edge[1])\n",
    "\n",
    "    Graph = copy.deepcopy(tmpG)\n",
    "    louvain = community.best_partition(Graph, resolution=1, randomize=False)\n",
    "    mod = community.modularity(louvain, Graph)\n",
    "\n",
    "    embedded = collections.namedtuple('embedded', 'G mod')\n",
    "    result = embedded(G = Graph, mod = mod)\n",
    "\n",
    "    return result\n",
    "\n",
    "def edgetrim_min(G, min_threshold):\n",
    "    tmpG = copy.deepcopy(G) \n",
    "    for edge in G.edges():\n",
    "        if G.edges[edge]['weight'] <= min_threshold:\n",
    "            tmpG.remove_edge(edge[0], edge[1]\n",
    "\n",
    "    Graph = copy.deepcopy(tmpG)\n",
    "    louvain = community.best_partition(Graph, resolution=1, randomize=False)\n",
    "    mod = community.modularity(louvain, Graph)\n",
    "\n",
    "    embedded = collections.namedtuple('embedded', 'G mod')\n",
    "    result = embedded(G = Graph, mod = mod)\n",
    "\n",
    "    return result"
   ]
  },
  {
   "cell_type": "code",
   "execution_count": null,
   "metadata": {},
   "outputs": [],
   "source": []
  },
  {
   "cell_type": "code",
   "execution_count": null,
   "metadata": {},
   "outputs": [],
   "source": []
  },
  {
   "cell_type": "code",
   "execution_count": 23,
   "metadata": {},
   "outputs": [],
   "source": []
  },
  {
   "cell_type": "code",
   "execution_count": null,
   "metadata": {},
   "outputs": [],
   "source": []
  },
  {
   "cell_type": "code",
   "execution_count": null,
   "metadata": {},
   "outputs": [],
   "source": []
  }
 ],
 "metadata": {
  "kernelspec": {
   "display_name": "Python 3",
   "language": "python",
   "name": "python3"
  },
  "language_info": {
   "codemirror_mode": {
    "name": "ipython",
    "version": 3
   },
   "file_extension": ".py",
   "mimetype": "text/x-python",
   "name": "python",
   "nbconvert_exporter": "python",
   "pygments_lexer": "ipython3",
   "version": "3.6.5"
  }
 },
 "nbformat": 4,
 "nbformat_minor": 2
}
